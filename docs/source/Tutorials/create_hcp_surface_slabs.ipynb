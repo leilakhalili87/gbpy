{
 "cells": [
  {
   "cell_type": "markdown",
   "metadata": {},
   "source": [
    "Import the packages"
   ]
  },
  {
   "cell_type": "code",
   "execution_count": 1,
   "metadata": {},
   "outputs": [],
   "source": [
    "import sys\n",
    "# @Leila: Why are you inserting this path?\n",
    "# sys.path.insert(0, '../../../')\n",
    "import byxtal.lattice as gbl\n",
    "import byxtal.integer_manipulations as iman\n",
    "import byxtal.bp_basis as bpb\n",
    "import numpy as np\n",
    "import math as mt\n",
    "import gbpy.util_funcs_create_byxtal as uf\n",
    "import gbpy.generate_hkl_indices as ghi\n",
    "from sympy.matrices import Matrix, eye, zeros\n",
    "\n",
    "## Sympy + SAGE routines\n",
    "import integer_manipulations as iman\n",
    "import util_funcs as uf"
   ]
  },
  {
   "cell_type": "code",
   "execution_count": 2,
   "metadata": {},
   "outputs": [],
   "source": [
    "def compute_hnf_props(hnf_mats, l_bp_p, l_p_po):\n",
    "    num_hnf = len(hnf_mats);\n",
    "    l_sig_p_mats = np.zeros((num_hnf, 3, 2));\n",
    "    l_sig_po_mats = np.zeros((num_hnf, 3, 2));\n",
    "    for hct1 in range(num_hnf):\n",
    "        # print(hct1)\n",
    "        l_sig_p = np.dot(l_bp_p, hnf_mats[hct1]);\n",
    "        # l_sig1_p = lll_reduction_bpl_basis(l_sig_p, l_p_po);\n",
    "        l_sig1_p = lt.reduce_po_lat(l_sig_p, Matrix(l_p_po), 1e-6)\n",
    "        l_sig_p_mats[hct1] = l_sig1_p;\n",
    "        l_sig_po = np.dot(l_p_po, l_sig1_p);\n",
    "        l_sig_po_mats[hct1] = l_sig_po;\n",
    "    return l_sig_p_mats, l_sig_po_mats;"
   ]
  },
  {
   "cell_type": "markdown",
   "metadata": {},
   "source": [
    "Define the primitive unit cell"
   ]
  },
  {
   "cell_type": "code",
   "execution_count": 3,
   "metadata": {},
   "outputs": [],
   "source": [
    "# get the lattice parameter of Al\n",
    "l1 = gbl.Lattice('hp_id')\n",
    "# Determine the primitive basis of fcc crystal structure\n",
    "l_p_po = Matrix(l1.l_p_po)\n",
    "l_po_p = l_p_po.inv()\n",
    "## (h k l) indices of the fcc lattice (described in p)\n",
    "h = 3\n",
    "k = 4\n",
    "l = 5\n",
    "\n",
    "hkl_p = Matrix([h,k,l])"
   ]
  },
  {
   "cell_type": "code",
   "execution_count": 4,
   "metadata": {},
   "outputs": [],
   "source": [
    "# hkl_p1\n",
    "## l_bpb_p: Primitive Basis vectors of the boundary-plane (in p reference frame)\n",
    "l_bpb_p = bpb.bp_basis(hkl_p)\n",
    "l_bpb_p = Matrix(l_bpb_p.astype(int))\n",
    "## l_bpb_p: Primitive Basis vectors of the boundary-plane (in po reference frame)\n",
    "l_bpb_po = l_p_po*l_bpb_p"
   ]
  },
  {
   "cell_type": "code",
   "execution_count": 5,
   "metadata": {},
   "outputs": [],
   "source": [
    "## Cut-off for area of the simulation box\n",
    "lat_par = l1.lat_params['a']\n",
    "r_cut = lat_par*4\n",
    "A_cut = r_cut**2\n",
    "## area_bpl: Area of the 2D-primitive-unit-cell\n",
    "area_bpl = (l_bpb_po[:,0].cross(l_bpb_po[:,1])).norm()\n",
    "# sig_num = np.ceil(A_cut/area_bpl)\n",
    "sig_num = (A_cut/area_bpl).ceiling()"
   ]
  },
  {
   "cell_type": "code",
   "execution_count": 6,
   "metadata": {},
   "outputs": [],
   "source": [
    "# here I choose the first HNF as the best one and apply no ll reduction\n",
    "hnf_mats = ghi.sig_hnf_mats(sig_num)\n",
    "# l_sig_p_mats, l_sig_po_mats = compute_hnf_props(hnf_mats, l_bpb_p, l_p_po)\n",
    "# hnf_mats, l_bp_p, l_p_po\n",
    "num_hnf = len(hnf_mats);\n",
    "l_sig_p_mats = np.zeros((num_hnf, 3, 2));\n",
    "l_sig_po_mats = np.zeros((num_hnf, 3, 2));\n",
    "# for hct1 in range(num_hnf):\n",
    "hct1 = 0\n",
    "l_sig_p = Matrix(np.dot(np.array(l_bpb_p, dtype='int64'), hnf_mats[hct1]));\n",
    "l_sig1_sig = uf.reduce_po_lat(l_sig_p, Matrix(l_p_po), 1e-2)\n",
    "l_sig1_p = np.array(l_sig_p*l_sig1_sig, dtype='int64')\n",
    "l_sig_p_mats[hct1] = l_sig1_p;\n",
    "l_sig_po = np.dot(l_p_po, l_sig1_p);\n",
    "l_sig_po_mats[hct1] = l_sig_po;\n",
    "        \n",
    "# l_bpbSig_p = np.dot(l_bpb_p, hnf_mats[0])\n",
    "# l_bpbSig_p = Matrix(l_bpbSig_p.astype(int))\n",
    "# l_bpbSig_po = l_p_po*l_bpbSig_p"
   ]
  },
  {
   "cell_type": "code",
   "execution_count": 7,
   "metadata": {},
   "outputs": [
    {
     "data": {
      "text/plain": [
       "array([[ 1, -5],\n",
       "       [-2,  0],\n",
       "       [ 1,  3]])"
      ]
     },
     "execution_count": 7,
     "metadata": {},
     "output_type": "execute_result"
    }
   ],
   "source": [
    "l_sig_p"
   ]
  },
  {
   "cell_type": "code",
   "execution_count": 12,
   "metadata": {},
   "outputs": [
    {
     "data": {
      "text/latex": [
       "$\\displaystyle \\left[\\begin{matrix}1 & -2\\\\-2 & -1\\\\1 & 2\\end{matrix}\\right]$"
      ],
      "text/plain": [
       "Matrix([\n",
       "[ 1, -2],\n",
       "[-2, -1],\n",
       "[ 1,  2]])"
      ]
     },
     "execution_count": 12,
     "metadata": {},
     "output_type": "execute_result"
    }
   ],
   "source": [
    "l_bpb_p"
   ]
  },
  {
   "cell_type": "code",
   "execution_count": 14,
   "metadata": {},
   "outputs": [
    {
     "data": {
      "text/plain": [
       "array([[1, 0],\n",
       "       [0, 2]])"
      ]
     },
     "execution_count": 14,
     "metadata": {},
     "output_type": "execute_result"
    }
   ],
   "source": [
    "hnf_mats[hct1]"
   ]
  },
  {
   "cell_type": "code",
   "execution_count": null,
   "metadata": {},
   "outputs": [],
   "source": [
    "l_po_go = uf.compute_orientation(l_bpbSig_po)\n",
    "l2D_bpbSig_go = l_po_go*l_bpbSig_po\n",
    "l2D_bpb_go = l_po_go*l_bpb_po\n",
    "twoD_mat = l2D_bpb_go[:2,:]\n",
    "\n",
    "second_atom = (np.array([l1.lat_params['a']/3, 2*l1.lat_params['a']/3, l1.lat_params['c']/2])).reshape(3,1)\n",
    "shift = np.dot(l_po_go, second_atom)\n"
   ]
  },
  {
   "cell_type": "code",
   "execution_count": null,
   "metadata": {},
   "outputs": [],
   "source": [
    "twoDSig_mat = l2D_bpbSig_go[:2,:]\n",
    "r_cut1 = uf.compute_rCut(l_bpbSig_po)\n",
    "## Create 2D periodic box\n",
    "twoD_pts = uf.replicate_pts(twoD_mat, r_cut1)\n",
    "twoD_pts = uf.replicate_pts(twoD_mat, r_cut1)\n",
    "twoD_pts = uf.remove_periodic_overlaps(twoD_pts, twoDSig_mat)\n",
    "\n",
    "twoDSig_mat_arr = np.array(twoDSig_mat,dtype='float')\n",
    "a_vec = twoDSig_mat_arr[:,0]; b_vec = twoDSig_mat_arr[:,1]\n",
    "\n",
    "zCut = 25*lat_par\n",
    "avec = l_bpb_p[:,0]\n",
    "bvec = l_bpb_p[:,1]\n",
    "\n",
    "l_p2_p1 = uf.find_int_solns(avec, bvec)\n",
    "l_p2_po1 = (l_p_po*l_p2_p1)\n",
    "l_p2_go = (l_po_go*l_p2_po1)\n",
    "tz_vec = np.array(l_p2_go[:,2], dtype='double')\n",
    "tz_vec = np.reshape(tz_vec, (3,))"
   ]
  },
  {
   "cell_type": "code",
   "execution_count": null,
   "metadata": {},
   "outputs": [],
   "source": [
    "################################################################################\n",
    "## Translate 2D points in the Z-direction with zCut\n",
    "num_rep = np.abs(int(np.ceil(zCut/tz_vec[2])))\n",
    "num_2d = np.shape(twoD_pts)[0]\n",
    "num_3d_pts = int((2*num_rep+1)*num_2d)\n",
    "threeD_pts = np.zeros((num_3d_pts,3));\n",
    "\n",
    "twoD_pts1 = np.hstack((twoD_pts, np.zeros((num_2d,1))));\n",
    "\n",
    "for ct1 in np.arange(-num_rep, num_rep+1):\n",
    "    ct2 = ct1 + num_rep;\n",
    "    ind_st = (ct2)*num_2d;\n",
    "    ind_stop = ind_st + num_2d;\n",
    "    trans_vec = tz_vec*ct1;\n",
    "    threeD_pts[ind_st:ind_stop, :] = twoD_pts1 + np.tile(trans_vec, (num_2d,1));\n",
    "\n",
    "### Simulation Cell Box\n",
    "### Following Ovito's convention\n",
    "l_bpbSig_po_arr = np.array(l2D_bpbSig_go, dtype='double')\n",
    "\n",
    "\n",
    "sim_cell = np.zeros((3,4))\n",
    "sim_avec = l_bpbSig_po_arr[:,0]\n",
    "sim_bvec = l_bpbSig_po_arr[:,1]\n",
    "\n",
    "### Change this with inter-planar spacing\n",
    "sim_cvec = np.array([0,0,2*zCut]); # sim_cvec = np.array([0,0,zCut]);\n",
    "sim_orig = np.array([0,0,-zCut]); # sim_orig = np.array([0,0,0]);\n",
    "\n",
    "sim_cell[:,0] = sim_avec\n",
    "sim_cell[:,1] = sim_bvec\n",
    "sim_cell[:,2] = sim_cvec\n",
    "sim_cell[:,3] = sim_orig\n",
    "\n",
    "box_vecs = sim_cell[:,0:3]\n",
    "shift = shift.reshape(1,3)\n",
    "# th_x = sim_cell[0,0] - sim_cell[0,3]\n",
    "# th_y = sim_cell[1,1] - sim_cell[1,3]\n",
    "th_z = sim_cell[2,2] + sim_cell[2,3]\n",
    "\n",
    "\n",
    "threeD_pts_1 = threeD_pts + shift\n",
    "threeD_pts_f = np.append(threeD_pts, threeD_pts_1,axis=0)\n",
    "threeD_pts_f = threeD_pts_f[threeD_pts_f[:,2] <= th_z]\n",
    "threeD_pts_f = threeD_pts_f[threeD_pts_f[:,2] >= -th_z]\n",
    "\n",
    "threeD_pts_final = uf.wrap_cc(sim_cell, threeD_pts_f)\n"
   ]
  },
  {
   "cell_type": "code",
   "execution_count": null,
   "metadata": {},
   "outputs": [],
   "source": [
    "import matplotlib\n",
    "import numpy as np\n",
    "import matplotlib.pyplot as plt"
   ]
  },
  {
   "cell_type": "code",
   "execution_count": null,
   "metadata": {},
   "outputs": [],
   "source": [
    "def plot_2d_pts_box(twoD_pts, twoD_mat, orig):\n",
    "    ################################################################################\n",
    "    l1 = np.copy(twoD_mat);\n",
    "    avec = l1[:,0]; bvec=l1[:,1];\n",
    "    pts = np.zeros((4,2));\n",
    "    pts[0,:] = orig;\n",
    "    pts[1,:] = orig+avec; pts[2,:] = orig+avec+bvec; pts[3,:] = orig+bvec;\n",
    "    tinds = [0,1,2,3,0];\n",
    "    x1=pts[tinds,0];y1=pts[tinds,1];\n",
    "    plt.plot(x1,y1);\n",
    "\n",
    "    pts = np.copy(twoD_pts);\n",
    "    x1=pts[:,0];y1=pts[:,1];\n",
    "    plt.scatter(x1,y1);\n",
    "    ################################################################################\n",
    "\n",
    "def plot_3d_pts_box(fig, pts, tmat, sim_orig):\n",
    "    ################################################################################\n",
    "    ax = fig.add_subplot(111, projection='3d')\n",
    "\n",
    "    box_pts = np.zeros((8,3));\n",
    "    box_pts[1,:] = tmat[:,0]; box_pts[2,:] = tmat[:,0]+tmat[:,1];\n",
    "    box_pts[3,:] = tmat[:,1];\n",
    "    box_pts[4,:] = box_pts[0,:]+tmat[:,2];\n",
    "    box_pts[5,:] = box_pts[1,:]+tmat[:,2];\n",
    "    box_pts[6,:] = box_pts[2,:]+tmat[:,2];\n",
    "    box_pts[7,:] = box_pts[3,:]+tmat[:,2];\n",
    "    box_pts = box_pts + sim_orig;\n",
    "\n",
    "    tinds = [0,1,2,3,0,4,5,6,7,4,0,1,5,6,2,3,7];\n",
    "    x1 = box_pts[tinds,0]; y1 = box_pts[tinds,1]; z1 = box_pts[tinds,2];\n",
    "    ax.plot(x1,y1,z1);\n",
    "\n",
    "    x1=pts[:,0];y1=pts[:,1];z1=pts[:,2];\n",
    "    ax.scatter(x1,y1,z1);\n",
    "\n",
    "    ################################################################################"
   ]
  },
  {
   "cell_type": "code",
   "execution_count": null,
   "metadata": {},
   "outputs": [],
   "source": [
    "fig1 = plt.figure()\n",
    "plot_3d_pts_box(fig1, threeD_pts_final, sim_cell[:,0:3], sim_orig); plt.show();"
   ]
  },
  {
   "cell_type": "code",
   "execution_count": null,
   "metadata": {},
   "outputs": [],
   "source": [
    "for tct1 in range(3):\n",
    "    for tct2 in range(3):\n",
    "        twoD_pts1 = 0*twoD_pts;\n",
    "        orig = np.array([0,0])\n",
    "        ct1 = tct1-1;\n",
    "        ct2 = tct2-1;\n",
    "        ct3 = 0; \n",
    "        twoD_pts1[:,ct3] = twoD_pts[:,ct3] + ct1*a_vec[ct3] + ct2*b_vec[ct3]\n",
    "        ct3 = 1; \n",
    "        twoD_pts1[:,ct3] = twoD_pts[:,ct3] + ct1*a_vec[ct3] + ct2*b_vec[ct3]\n",
    "        orig = ct1*a_vec + ct2*b_vec;\n",
    "        plot_2d_pts_box(twoD_pts1, twoDSig_mat_arr, orig)\n",
    "        # orig = ct1*a_vec + ct2*b_vec;\n",
    "        # print(orig)"
   ]
  },
  {
   "cell_type": "code",
   "execution_count": null,
   "metadata": {},
   "outputs": [],
   "source": [
    "\n",
    "def box_bound_func(sim_cell):\n",
    "    origin_o = sim_cell[:, 3]\n",
    "    xlo = origin_o[0]\n",
    "    ylo = origin_o[1]\n",
    "    zlo = origin_o[2]\n",
    "\n",
    "    xhi = sim_cell[0, 0] + xlo\n",
    "    xy = sim_cell[0, 1]\n",
    "    yhi = sim_cell[1, 1] + ylo\n",
    "    xz = sim_cell[0, 2]\n",
    "    yz = sim_cell[1, 2]\n",
    "    zhi = sim_cell[2, 2] + zlo\n",
    "\n",
    "    if xy or xz or yz != 0:\n",
    "        box_type = \"prism\"\n",
    "    else:\n",
    "        box_type = \"block\"\n",
    "\n",
    "    xlo_bound = xlo + np.min(np.array([0, xy, xz, xy + xz]))\n",
    "    xhi_bound = xhi + np.max(np.array([0, xy, xz, xy + xz]))\n",
    "    ylo_bound = ylo + np.min(np.array([0, yz]))\n",
    "    yhi_bound = yhi + np.max(np.array([0, yz]))\n",
    "    zlo_bound = zlo\n",
    "    zhi_bound = zhi\n",
    "\n",
    "    if box_type == \"block\":\n",
    "        box_bound = np.array([[xlo_bound, xhi_bound], [ylo_bound, yhi_bound], [zlo_bound, zhi_bound]])\n",
    "    else:\n",
    "        box_bound = np.array([[xlo_bound, xhi_bound, xy], [ylo_bound, yhi_bound,  xz], [zlo_bound, zhi_bound, yz]])\n",
    "    return box_bound, box_type\n",
    "\n",
    "def write_lammps_dump(filename0, box_bound, dump_lamp, box_type):\n",
    "    \"\"\"\n",
    "    Function writes the lammps dump file.\n",
    "\n",
    "    Parameters\n",
    "    ------------\n",
    "    filename0 :\n",
    "        Name of the lammps dump file\n",
    "    box_bound :\n",
    "        The box bound needed to write lammps dump file which is 9 parameters: xlo, xhi, ylo, yhi,\n",
    "        zlo, zhi, xy, xz, yz\n",
    "    dump_lamp :\n",
    "        A numpy nd.array having atom ID, atom type( 1 for upper grain and 2 for lower grain), x, y, z\n",
    "\n",
    "    Returns\n",
    "    ----------\n",
    "    \"\"\"\n",
    "    p_x = box_bound[0, 1] - box_bound[0, 0]\n",
    "    p_y = box_bound[1, 1] - box_bound[1, 0]\n",
    "    p_z = box_bound[2, 1] - box_bound[2, 0]\n",
    "\n",
    "    non_p_dir = np.argmax([p_x, p_y, p_z])\n",
    "\n",
    "    num_atoms = np.shape(dump_lamp)[0]\n",
    "    file = open(filename0, \"w\")\n",
    "    file.write(\"ITEM: TIMESTEP\\n\")\n",
    "    file.write(\"0\\n\")\n",
    "    file.write(\"ITEM: NUMBER OF ATOMS\\n\")\n",
    "    file.write(str(num_atoms) + \"\\n\")\n",
    "    # file.write(\"ITEM: BOX BOUNDS xy xz yz pp ff pp\\n\")\n",
    "    if box_type == \"prism\":\n",
    "        if non_p_dir == 0:\n",
    "            file.write(\"ITEM: BOX BOUNDS xy xz yz ff pp pp\\n\")\n",
    "        elif non_p_dir == 1:\n",
    "            file.write(\"ITEM: BOX BOUNDS xy xz yz pp ff pp\\n\")\n",
    "        else:\n",
    "            file.write(\"ITEM: BOX BOUNDS xy xz yz pp pp ff\\n\")\n",
    "\n",
    "    else:\n",
    "        if non_p_dir == 0:\n",
    "            file.write(\"ITEM: BOX BOUNDS ff pp pp\\n\")\n",
    "        elif non_p_dir == 1:\n",
    "            file.write(\"ITEM: BOX BOUNDS pp ff pp\\n\")\n",
    "        else:\n",
    "            file.write(\"ITEM: BOX BOUNDS pp pp ff\\n\")\n",
    "\n",
    "    file.write(' '.join(map(str, box_bound[0])) + \"\\n\")\n",
    "    file.write(' '.join(map(str, box_bound[1])) + \"\\n\")\n",
    "    file.write(' '.join(map(str, box_bound[2])) + \"\\n\")\n",
    "    file.write(\"ITEM: ATOMS id x y z\\n\")\n",
    "    file.close()\n",
    "    mat = np.matrix(dump_lamp)\n",
    "    with open(filename0, 'a') as f:\n",
    "        for line in mat:\n",
    "            np.savetxt(f, line, fmt='%d %.10f %.10f %.10f')\n",
    "\n",
    "num_atoms = len(threeD_pts_final)\n",
    "ID = np.arange(num_atoms).reshape(num_atoms, 1) + 1\n",
    "dump_lamp = np.concatenate((ID, threeD_pts_final), axis=1)\n",
    "box_bound, box_type = box_bound_func(sim_cell)\n",
    "write_lammps_dump('./hcp.dump', box_bound, dump_lamp, box_type)"
   ]
  },
  {
   "cell_type": "code",
   "execution_count": null,
   "metadata": {},
   "outputs": [],
   "source": []
  },
  {
   "cell_type": "code",
   "execution_count": null,
   "metadata": {},
   "outputs": [],
   "source": []
  }
 ],
 "metadata": {
  "kernelspec": {
   "display_name": "Python 3",
   "language": "python",
   "name": "python3"
  },
  "language_info": {
   "codemirror_mode": {
    "name": "ipython",
    "version": 3
   },
   "file_extension": ".py",
   "mimetype": "text/x-python",
   "name": "python",
   "nbconvert_exporter": "python",
   "pygments_lexer": "ipython3",
   "version": "3.7.3"
  }
 },
 "nbformat": 4,
 "nbformat_minor": 4
}
