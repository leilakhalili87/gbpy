{
 "cells": [
  {
   "cell_type": "code",
   "execution_count": 1,
   "metadata": {},
   "outputs": [],
   "source": [
    "import numpy as np\n",
    "import numpy as np\n",
    "import byxtal.bp_basis as plb\n",
    "import byxtal.integer_manipulations as int_man\n",
    "import byxtal.find_csl_dsc as fcd"
   ]
  },
  {
   "cell_type": "code",
   "execution_count": 40,
   "metadata": {},
   "outputs": [],
   "source": [
    "n_po = np.array([0, 0,1])\n",
    "L_p_po = 1.0 * np.array([[0.,0.5,0.5],[0.5,0.,0.5],[0.5,0.5,0.]])\n",
    "t_mat = np.array([[-1, 2, 2],[2, -1, 2],[2, 2, -1]])/3\n",
    "index_type  = 'normal_g'\n",
    "T_reference = 'g1'"
   ]
  },
  {
   "cell_type": "code",
   "execution_count": 41,
   "metadata": {},
   "outputs": [],
   "source": [
    "L_2d_csl_p1, L_pl1_p1, L_pl2_p1 = plb.gb_2d_csl(n_po, t_mat, L_p_po, index_type, T_reference)"
   ]
  },
  {
   "cell_type": "code",
   "execution_count": 42,
   "metadata": {},
   "outputs": [
    {
     "name": "stdout",
     "output_type": "stream",
     "text": [
      "\n",
      "The misorientation of lower crystal\n",
      "[[ 0.70710678  0.         -0.70710678]\n",
      " [-0.70710678  0.         -0.70710678]\n",
      " [ 0.          1.          0.        ]]\n",
      "\n",
      "The misorientation of upper crystal\n",
      "[[-0.70710678  0.          0.70710678]\n",
      " [-0.23570226 -0.94280904 -0.23570226]\n",
      " [ 0.66666667 -0.33333333  0.66666667]]\n"
     ]
    }
   ],
   "source": [
    "a_0 = L_2d_csl_p1[:,0]\n",
    "a = a_0/np.linalg.norm(a_0)\n",
    "\n",
    "b = n_po/np.linalg.norm(n_po)\n",
    "\n",
    "c_0 = np.cross(a_0,n_po)\n",
    "c = c_0/np.linalg.norm(c_0)\n",
    "\n",
    "O_L = np.stack((a,b,c), axis=1)\n",
    "# O_L = np.matmul(rot_y,O_L).T\n",
    "O_U = np.matmul(O_L,t_mat)\n",
    "# rot_y = np.array([[1, 0, 0],[0, 0, 1],[0, 1, 0]])\n",
    "print('\\nThe misorientation of lower crystal')\n",
    "print(O_L)\n",
    "print('\\nThe misorientation of upper crystal')\n",
    "print(O_U)"
   ]
  },
  {
   "cell_type": "code",
   "execution_count": null,
   "metadata": {},
   "outputs": [],
   "source": []
  }
 ],
 "metadata": {
  "kernelspec": {
   "display_name": "Python 3",
   "language": "python",
   "name": "python3"
  },
  "language_info": {
   "codemirror_mode": {
    "name": "ipython",
    "version": 3
   },
   "file_extension": ".py",
   "mimetype": "text/x-python",
   "name": "python",
   "nbconvert_exporter": "python",
   "pygments_lexer": "ipython3",
   "version": "3.8.5"
  }
 },
 "nbformat": 4,
 "nbformat_minor": 4
}
