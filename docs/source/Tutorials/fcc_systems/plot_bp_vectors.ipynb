{
 "cells": [
  {
   "cell_type": "code",
   "execution_count": 16,
   "metadata": {},
   "outputs": [],
   "source": [
    "import pickle as pkl\n",
    "import byxtal.lattice as gbl\n",
    "import byxtal.find_csl_dsc as fcd\n",
    "import numpy as np\n",
    "\n",
    "########################################################################\n",
    "pkl_name = 'cF_Id_byxtal_props.pkl';\n",
    "jar = open(pkl_name, 'rb');\n",
    "\n",
    "csl_props = pkl.load(jar)\n",
    "sig_mats = csl_props['sig_mats']\n",
    "csl_mats = csl_props['csl_mats']\n",
    "dsc_mats = csl_props['dsc_mats']\n",
    "bxt_symm_props = csl_props['csl_symm_props']\n",
    "jar.close()\n",
    "########################################################################\n",
    "\n",
    "########################################################################\n",
    "pkl_name = 'bp_list_fcc.pkl';\n",
    "jar = open(pkl_name, 'rb');\n",
    "\n",
    "hkl_sig_inds = pkl.load(jar)\n",
    "jar.close()\n",
    "########################################################################\n",
    "\n",
    "s1_keys = list(hkl_sig_inds.keys())\n",
    "sig_id = s1_keys[0]\n",
    "mInd_list = hkl_sig_inds[sig_id]\n",
    "\n",
    "symm_prop = bxt_symm_props[sig_id]\n",
    "symm_grp_ax = symm_prop['symm_grp_ax']\n",
    "bxt_symm_grp = symm_prop['bxt_symm_grp']\n",
    "\n",
    "l1=gbl.Lattice()\n",
    "l_p_po = l1.l_p_po\n",
    "\n",
    "l_rp_po = fcd.reciprocal_mat(l_p_po)\n",
    "n_po = (l_rp_po.dot(mInd_list.transpose())).transpose()\n",
    "nsz = np.shape(n_po)[0]\n",
    "nu_vec = n_po/(np.tile(np.sqrt(np.sum(n_po**2, axis=1)), (3, 1)).transpose())\n",
    "\n",
    "symm_grp_ax1 = symm_grp_ax.transpose()\n",
    "nu_vec1 = (symm_grp_ax1.dot(nu_vec.transpose())).transpose()\n",
    "\n",
    "from mpl_toolkits.mplot3d import Axes3D\n",
    "import matplotlib.pyplot as plt\n",
    "# %matplotlib inline\n",
    "\n",
    "%matplotlib widget\n",
    "\n",
    "fig = plt.figure()\n",
    "ax = fig.add_subplot(111, projection='3d')\n",
    "xs = nu_vec1[:,0]\n",
    "ys = nu_vec1[:,1]\n",
    "zs = nu_vec1[:,2]\n",
    "ax.scatter(xs, ys, zs)\n",
    "plt.show()"
   ]
  },
  {
   "cell_type": "code",
   "execution_count": 17,
   "metadata": {},
   "outputs": [],
   "source": []
  },
  {
   "cell_type": "code",
   "execution_count": 18,
   "metadata": {},
   "outputs": [],
   "source": []
  },
  {
   "cell_type": "code",
   "execution_count": 19,
   "metadata": {},
   "outputs": [],
   "source": []
  },
  {
   "cell_type": "code",
   "execution_count": 20,
   "metadata": {},
   "outputs": [],
   "source": []
  },
  {
   "cell_type": "code",
   "execution_count": 21,
   "metadata": {},
   "outputs": [
    {
     "data": {
      "text/plain": [
       "array([[ 0.81649658,  0.        ,  0.57735027],\n",
       "       [-0.40824829,  0.70710678,  0.57735027],\n",
       "       [-0.40824829, -0.70710678,  0.57735027]])"
      ]
     },
     "execution_count": 21,
     "metadata": {},
     "output_type": "execute_result"
    }
   ],
   "source": [
    "symm_grp_ax"
   ]
  },
  {
   "cell_type": "code",
   "execution_count": 52,
   "metadata": {},
   "outputs": [
    {
     "data": {
      "application/vnd.jupyter.widget-view+json": {
       "model_id": "c899806556b84a249906c865e39a9792",
       "version_major": 2,
       "version_minor": 0
      },
      "text/plain": [
       "Canvas(toolbar=Toolbar(toolitems=[('Home', 'Reset original view', 'home', 'home'), ('Back', 'Back to previous …"
      ]
     },
     "metadata": {},
     "output_type": "display_data"
    }
   ],
   "source": []
  },
  {
   "cell_type": "code",
   "execution_count": null,
   "metadata": {},
   "outputs": [],
   "source": []
  }
 ],
 "metadata": {
  "kernelspec": {
   "display_name": "Python 3",
   "language": "python",
   "name": "python3"
  },
  "language_info": {
   "codemirror_mode": {
    "name": "ipython",
    "version": 3
   },
   "file_extension": ".py",
   "mimetype": "text/x-python",
   "name": "python",
   "nbconvert_exporter": "python",
   "pygments_lexer": "ipython3",
   "version": "3.7.3"
  }
 },
 "nbformat": 4,
 "nbformat_minor": 4
}
