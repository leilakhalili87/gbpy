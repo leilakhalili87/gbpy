{
 "cells": [
  {
   "cell_type": "code",
   "execution_count": null,
   "metadata": {},
   "outputs": [],
   "source": []
  },
  {
   "cell_type": "markdown",
   "metadata": {},
   "source": [
    "## Variable Definitions\n",
    "1. `l_Cbpb_Cp`: Basis of the 2D lattice in the CSLp reference frame for the given (hkl) plane.\n",
    "2. `l_CRbpb_Cp`: Basis of the 2D lattice such that the basis vectors have length that is greater than rCut and the basis vectors are similar in lengths and the angle between them is close to 90. Defined in the CSLp reference frame"
   ]
  },
  {
   "cell_type": "code",
   "execution_count": null,
   "metadata": {},
   "outputs": [],
   "source": []
  },
  {
   "cell_type": "code",
   "execution_count": 1,
   "metadata": {},
   "outputs": [],
   "source": [
    "import byxtal.tools as gbt\n",
    "import byxtal.lattice as gbl\n",
    "import pickle as pkl\n",
    "import numpy as np\n",
    "import numpy.linalg as nla\n",
    "import byxtal.misorient_fz as mfz\n",
    "import gbpy.generate_hkl_indices as ghi\n",
    "import gbpy.util_funcs_create_byxtal as uf\n"
   ]
  },
  {
   "cell_type": "code",
   "execution_count": null,
   "metadata": {},
   "outputs": [],
   "source": []
  },
  {
   "cell_type": "code",
   "execution_count": 2,
   "metadata": {},
   "outputs": [],
   "source": [
    "########################################################################\n",
    "pkl_name = 'cF_Id_byxtal_props.pkl';\n",
    "jar = open(pkl_name, 'rb');\n",
    "\n",
    "csl_props = pkl.load(jar)\n",
    "sig_mats = csl_props['sig_mats']\n",
    "csl_mats = csl_props['csl_mats']\n",
    "dsc_mats = csl_props['dsc_mats']\n",
    "bxt_symm_props = csl_props['csl_symm_props']\n",
    "jar.close()\n",
    "########################################################################\n",
    "\n",
    "########################################################################\n",
    "pkl_name = 'bp_list_fcc.pkl';\n",
    "jar = open(pkl_name, 'rb');\n",
    "\n",
    "bp_list = pkl.load(jar)\n",
    "l_p_po = bp_list['l_p_po']\n",
    "hkl_sig_inds = bp_list['miller_inds']\n",
    "\n",
    "jar.close()\n",
    "########################################################################\n"
   ]
  },
  {
   "cell_type": "code",
   "execution_count": null,
   "metadata": {},
   "outputs": [],
   "source": []
  },
  {
   "cell_type": "code",
   "execution_count": 3,
   "metadata": {},
   "outputs": [],
   "source": [
    "l1 = gbl.Lattice('Al')\n",
    "lat_par = l1.lat_params['a']\n",
    "rCut = lat_par*3\n",
    "A_cut = (rCut+lat_par)**2\n",
    "\n",
    "l_p_po = l1.l_p_po\n",
    "l_po_p = nla.inv(l_p_po)\n"
   ]
  },
  {
   "cell_type": "code",
   "execution_count": null,
   "metadata": {},
   "outputs": [],
   "source": []
  },
  {
   "cell_type": "code",
   "execution_count": 4,
   "metadata": {},
   "outputs": [],
   "source": [
    "s1_keys = list(hkl_sig_inds.keys())\n",
    "ind1 = 0\n",
    "sig_id = s1_keys[ind1]\n",
    "hkl_inds = hkl_sig_inds[sig_id]\n",
    "l_csl_p1 = csl_mats[sig_id]\n",
    "l_csl_po1 = l_p_po.dot(l_csl_p1)\n",
    "\n",
    "\n",
    "tct1 = 0\n",
    "hkl1 = np.zeros((1,3), dtype='int64')\n",
    "hkl1[0,:] = hkl_inds[tct1,:]"
   ]
  },
  {
   "cell_type": "code",
   "execution_count": null,
   "metadata": {},
   "outputs": [],
   "source": []
  },
  {
   "cell_type": "code",
   "execution_count": 5,
   "metadata": {},
   "outputs": [],
   "source": [
    "l_CSLbpb_CSLp = {}\n",
    "l_CSLbpbSig_CSLp = {}\n",
    "\n",
    "l_CSLbpb_CSLp_mat = ghi.compute_hkl_bpb(hkl1)\n",
    "l_CSLbpbSig_CSLp_mat = ghi.gen_Acut_bpb(l_CSLbpb_CSLp_mat, l_csl_po1, rCut, A_cut)\n",
    "\n",
    "l_Cbpb_Cp  = l_CSLbpb_CSLp_mat[0]\n",
    "l_CRbpb_Cp = l_CSLbpbSig_CSLp_mat[0]\n",
    "\n",
    "l_bp_po1 = l_csl_po1.dot(l_CRbpb_Cp)\n",
    "\n",
    "symm_grp_ax = bxt_symm_props[sig_id]['symm_grp_ax'];\n",
    "bp_symm_grp = bxt_symm_props[sig_id]['bxt_symm_grp'];\n",
    "\n",
    "l_p2_p1 = sig_mats[sig_id]\n",
    "gb_ID = uf.get_gb_uID(l_bp_po1, l_p2_p1, l_p_po, bp_symm_grp, symm_grp_ax, sig_id)"
   ]
  },
  {
   "cell_type": "code",
   "execution_count": 6,
   "metadata": {},
   "outputs": [
    {
     "data": {
      "text/plain": [
       "'Al_S3_1_N1_11_-1_-7_N2_-3_3_-1'"
      ]
     },
     "execution_count": 6,
     "metadata": {},
     "output_type": "execute_result"
    }
   ],
   "source": [
    "gb_ID"
   ]
  },
  {
   "cell_type": "code",
   "execution_count": null,
   "metadata": {},
   "outputs": [],
   "source": [
    "zCut = 25*l1.lat_params['a']\n",
    "\n",
    "threeD_upts, sim_cell2 = uf.create_half_cryst(l_csl_p1, l_CRbpb_Cp, l_p_po, 'upper', zCut)\n",
    "\n",
    "l_p1_p2 = nla.inv(l_p2_p1)\n",
    "l_csl_p2 = l_p1_p2.dot(l_csl_p1)\n",
    "threeD_lpts, sim_cell1 = uf.create_half_cryst(l_csl_p2, l_CRbpb_Cp, l_p_po, 'lower', zCut)"
   ]
  },
  {
   "cell_type": "code",
   "execution_count": null,
   "metadata": {},
   "outputs": [],
   "source": []
  },
  {
   "cell_type": "code",
   "execution_count": null,
   "metadata": {},
   "outputs": [],
   "source": [
    "gb_attr = {}\n",
    "gb_attr['cell'] = sim_cell1\n",
    "gb_attr['upts'] = threeD_upts\n",
    "gb_attr['lpts'] = threeD_lpts\n",
    "\n",
    "pkl_name = 'gb_attr_'+gb_ID+'.pkl'\n",
    "jar = open(pkl_name,'wb')\n",
    "pkl.dump(gb_attr, jar)\n",
    "jar.close()"
   ]
  },
  {
   "cell_type": "code",
   "execution_count": null,
   "metadata": {},
   "outputs": [],
   "source": []
  },
  {
   "cell_type": "code",
   "execution_count": null,
   "metadata": {},
   "outputs": [],
   "source": [
    "import matplotlib\n",
    "import numpy as np\n",
    "import matplotlib.pyplot as plt\n",
    "import plotting_routines as plr\n",
    "%matplotlib inline\n",
    "\n",
    "threeD_pts = np.vstack((threeD_upts, threeD_lpts))\n",
    "sim_orig = sim_cell1[:,3]\n",
    "sim_cell = sim_cell1[:,0:3]\n",
    "fig1 = plt.figure()\n",
    "plr.plot_3d_pts_box(fig1, threeD_pts, sim_cell, sim_orig)\n",
    "plt.show()\n"
   ]
  },
  {
   "cell_type": "code",
   "execution_count": null,
   "metadata": {},
   "outputs": [],
   "source": []
  },
  {
   "cell_type": "code",
   "execution_count": null,
   "metadata": {},
   "outputs": [],
   "source": []
  },
  {
   "cell_type": "code",
   "execution_count": 2,
   "metadata": {},
   "outputs": [],
   "source": [
    "import os\n",
    "import byxtal\n",
    "# path = os.path.dirname(byxtal.__file__)+'/tests/';\n",
    "path = os.path.dirname(byxtal.__file__)+'/data_files/'\n",
    "csl_pkl = path+l1.pearson+'_Id_csl_common_rotations.pkl'\n",
    "jar = open(csl_pkl,'rb')\n",
    "s1=pkl.load(jar)\n",
    "jar.close()"
   ]
  },
  {
   "cell_type": "code",
   "execution_count": 3,
   "metadata": {},
   "outputs": [],
   "source": []
  },
  {
   "cell_type": "code",
   "execution_count": 4,
   "metadata": {},
   "outputs": [
    {
     "name": "stdout",
     "output_type": "stream",
     "text": [
      "Sig ID: 1 -- 5_1\n"
     ]
    }
   ],
   "source": [
    "tct1 = 3\n",
    "t1_num = t_num[tct1]\n",
    "bpn_po1 = bpn_list[tct1]\n",
    "\n",
    "sig_id = s1_keys[t1_num]\n",
    "print(\"Sig ID: \"+ str(t1_num) + \" -- \"+ sig_id)\n",
    " "
   ]
  },
  {
   "cell_type": "code",
   "execution_count": 5,
   "metadata": {},
   "outputs": [
    {
     "name": "stdout",
     "output_type": "stream",
     "text": [
      "Al_S5_1_N1_1_-5_5_N2_-1_1_-7\n"
     ]
    }
   ],
   "source": [
    "\n",
    "l_csl_p1 = csl_mats[sig_id];\n",
    "l_csl_po1 = l_p_po.dot(l_csl_p1)\n",
    "\n",
    "\n",
    "##############################################################################\n",
    "#### From MBP\n",
    "sig_id = s1_keys[t1_num]\n",
    "l_rp_po = fcd.reciprocal_mat(l_csl_po1)\n",
    "l_po_rp = nla.inv(l_rp_po)\n",
    "norm_uvec = bpn_po1/bpn_po1.norm()\n",
    "n1_rp = l_po_rp*norm_uvec\n",
    "hkl_ind = iman.int_finder(n1_rp)\n",
    "hkl1 = (np.array(hkl_ind, dtype='double')).T\n",
    "\n",
    "import gbpy.generate_hkl_indices as ghi\n",
    "# l_CSLbpb_CSLp = ghi.compute_hkl_bpb(hkl1);\n",
    "l_Cbpb_Cp = ghi.compute_hkl_bpb(hkl1)\n",
    "l_CSLbpbSig_CSLp = ghi.gen_Acut_bpb(l_Cbpb_Cp, l_csl_po1, rCut, A_cut)\n",
    "l_CRbpb_Cp=l_CSLbpbSig_CSLp[0]\n",
    "\n",
    "##############################################################################\n",
    "\n",
    "l_bp_po1 = l_csl_po1*l_CRbpb_Cp;\n",
    "\n",
    "symm_grp_ax = csl_bp_props[sigr_id]['symm_grp_ax'];\n",
    "bp_symm_grp = csl_bp_props[sig_id]['bp_symm_grp'];\n",
    "\n",
    "l_p2_p1 = Matrix(sig_mats[sig_id]);\n",
    "gb_ID = uf.get_gb_uID(l_bp_po1, l_p2_p1, l_p_po, bp_symm_grp, symm_grp_ax, sig_id);\n",
    "print(gb_ID);"
   ]
  },
  {
   "cell_type": "code",
   "execution_count": 6,
   "metadata": {},
   "outputs": [],
   "source": [
    "zCut = 25*l1.lat_params['a'];\n",
    "\n",
    "threeD_upts, sim_cell2 = uf.create_half_cryst(l_csl_p1, l_CRbpb_Cp, l_p_po, 'upper', zCut)\n",
    "\n",
    "l_p1_p2 = l_p2_p1.inv(); l_csl_p2 = l_p1_p2*l_csl_p1;\n",
    "threeD_lpts, sim_cell1 = uf.create_half_cryst(l_csl_p2, l_CRbpb_Cp, l_p_po, 'lower', zCut)\n",
    "\n",
    "pkl_name = 'gb_attr_'+gb_ID+'.pkl';\n",
    "jar = open(pkl_name,'wb'); pkl.dump(gb_attr, jar); jar.close();\n",
    "\n",
    "gb_attr = {};\n",
    "gb_attr['cell'] = sim_cell1;\n",
    "gb_attr['upts'] = threeD_upts;\n",
    "gb_attr['lpts'] = threeD_lpts;"
   ]
  },
  {
   "cell_type": "code",
   "execution_count": null,
   "metadata": {},
   "outputs": [],
   "source": []
  },
  {
   "cell_type": "markdown",
   "metadata": {},
   "source": [
    "### Convert CSL-BP to \n",
    "\n",
    "The boundary-plane can be described in different lattices and conventions\n",
    "\n",
    "1. As planar Miller-indices in $\\mathcal{B}_{csl}$\n",
    "2. As planar Miller-indices in $\\mathcal{B}_{p}$\n",
    "3. As planar Miller-indices in $\\mathcal{B}_{po}$\n",
    "4. As direction Miller-indices of the normal vector in $\\mathcal{B}_{p}$\n",
    "5. As direction Miller-indices of the normal vector in $\\mathcal{B}_{po}$\n"
   ]
  },
  {
   "cell_type": "code",
   "execution_count": null,
   "metadata": {},
   "outputs": [],
   "source": []
  },
  {
   "cell_type": "markdown",
   "metadata": {},
   "source": [
    "### If we want the global Y-axis to be perpendicular to the GB"
   ]
  },
  {
   "cell_type": "code",
   "execution_count": 7,
   "metadata": {},
   "outputs": [],
   "source": [
    "### Points with Y-axis perpendicular to the GB\n",
    "rot_mat = np.array([[1.0, 0, 0], [0, 0.0, -1.0], [0, 1.0, 0.0]])\n",
    "threeD_lypts = (np.dot(rot_mat, threeD_upts.transpose())).transpose();\n",
    "threeD_uypts = (np.dot(rot_mat, threeD_lpts.transpose())).transpose();\n",
    "\n",
    "sim_cell2 = 0*sim_cell1\n",
    "sim_cell2[:,0] = sim_cell1[:,0]\n",
    "\n",
    "sim_cell2[0,1] = sim_cell1[0,2]\n",
    "sim_cell2[1,1] = sim_cell1[2,2]\n",
    "sim_cell2[2,1] = sim_cell1[1,2]\n",
    "\n",
    "sim_cell2[0,2] = sim_cell1[0,1]\n",
    "sim_cell2[1,2] = sim_cell1[2,1]\n",
    "sim_cell2[2,2] = sim_cell1[1,1]\n",
    "sim_cell2[1,3] = sim_cell1[2,3]\n",
    "\n",
    "gbY_attr = {};\n",
    "gbY_attr['cell'] = sim_cell2;\n",
    "gbY_attr['upts'] = threeD_lypts;\n",
    "gbY_attr['lpts'] = threeD_uypts;\n",
    "\n",
    "pkl_name = 'gbY_attr_'+gb_ID+'.pkl';\n",
    "jar = open(pkl_name,'wb'); pkl.dump(gbY_attr, jar); jar.close();"
   ]
  }
 ],
 "metadata": {
  "kernelspec": {
   "display_name": "Python 3",
   "language": "python",
   "name": "python3"
  },
  "language_info": {
   "codemirror_mode": {
    "name": "ipython",
    "version": 3
   },
   "file_extension": ".py",
   "mimetype": "text/x-python",
   "name": "python",
   "nbconvert_exporter": "python",
   "pygments_lexer": "ipython3",
   "version": "3.7.3"
  }
 },
 "nbformat": 4,
 "nbformat_minor": 4
}
