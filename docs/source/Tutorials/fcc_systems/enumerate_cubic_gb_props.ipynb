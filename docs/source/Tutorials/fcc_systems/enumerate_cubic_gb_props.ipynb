{
 "cells": [
  {
   "cell_type": "markdown",
   "metadata": {},
   "source": []
  },
  {
   "cell_type": "code",
   "execution_count": null,
   "metadata": {},
   "outputs": [],
   "source": [
    "import byxtal.tools as gbt;\n",
    "import byxtal.lattice as gbl\n",
    "import pickle as pkl\n",
    "import numpy as np\n",
    "import numpy.linalg as nla\n",
    "import byxtal.misorient_fz as mfz\n",
    "import gbpy.generate_hkl_indices as ghi"
   ]
  },
  {
   "cell_type": "markdown",
   "metadata": {},
   "source": []
  },
  {
   "cell_type": "code",
   "execution_count": 12,
   "metadata": {},
   "outputs": [],
   "source": [
    "######################################################################\n",
    "###### Boundary-plane matrix properties with A_cut\n",
    "#####################################################################\n",
    "l1=gbl.Lattice()\n",
    "pkl_name = l1.elem_type+'_byxtal_props.pkl'\n",
    "jar = open(pkl_name,'rb')\n",
    "s1=pkl.load(jar)\n",
    "jar.close()\n",
    "\n",
    "sig_mats = s1['sig_mats']\n",
    "csl_mats = s1['csl_mats']\n",
    "dsc_mats = s1['dsc_mats']\n",
    "csl_symm_props = s1['csl_symm_props']"
   ]
  },
  {
   "cell_type": "markdown",
   "metadata": {},
   "source": []
  },
  {
   "cell_type": "code",
   "execution_count": 14,
   "metadata": {},
   "outputs": [],
   "source": [
    "l_p_po = l1.l_p_po\n",
    "lat_par = l1.lat_params['a']\n",
    "rCut = lat_par*3\n",
    "A_cut = (rCut+lat_par)**2\n",
    "\n",
    "num1 = 3\n",
    "\n",
    "s1_keys = list(csl_symm_props.keys())\n",
    "hkl_sig_inds = {}\n",
    "l_CSLbpb_CSLp = {}\n",
    "l_CSLbpbSig_CSLp = {}"
   ]
  },
  {
   "cell_type": "markdown",
   "metadata": {},
   "source": []
  },
  {
   "cell_type": "code",
   "execution_count": 20,
   "metadata": {},
   "outputs": [
    {
     "name": "stdout",
     "output_type": "stream",
     "text": [
      "3_1\n",
      "5_1\n"
     ]
    }
   ],
   "source": [
    "for sig_id in s1_keys:\n",
    "    print(sig_id)\n",
    "\n",
    "    l_p_po = l1.l_p_po\n",
    "    l_po_p = nla.inv(l_p_po)\n",
    "\n",
    "    bp_symm_grp = csl_symm_props[sig_id]['bxt_symm_grp']\n",
    "    symm_grp_ax = csl_symm_props[sig_id]['symm_grp_ax']\n",
    "    l_csl_p = csl_mats[sig_id]\n",
    "\n",
    "\n",
    "    l_csl_po = l_p_po.dot(l_csl_p)\n",
    "    l_csl_props = {}\n",
    "\n",
    "    l_csl_props['l_csl_po'] = l_csl_po\n",
    "    l_csl_props['symm_grp_ax'] = symm_grp_ax\n",
    "    l_csl_props['bp_symm_grp'] = bp_symm_grp\n",
    "\n",
    "    hkl_inds, l_CSLbpb_CSLp_mat = ghi.gen_hkl_props(l_csl_props, num1)\n",
    "    hkl_sig_inds[sig_id] = hkl_inds\n",
    "    l_CSLbpb_CSLp[sig_id] = l_CSLbpb_CSLp_mat\n",
    "    \n",
    "    # l_CSLbpbSig_CSLp_mat = ghi.gen_Acut_bpb(l_CSLbpb_CSLp_mat, l_csl_po, rCut, A_cut)\n",
    "    # l_CSLbpbSig_CSLp[sig_id] = l_CSLbpbSig_CSLp_mat\n"
   ]
  },
  {
   "cell_type": "code",
   "execution_count": 4,
   "metadata": {},
   "outputs": [],
   "source": [
    "########################################################################\n",
    "pkl_name = 'cubic_gb_props.pkl';\n",
    "jar = open(pkl_name, 'wb');\n",
    "\n",
    "gb_props = {}\n",
    "gb_props['hkl_sig_inds'] = hkl_sig_inds\n",
    "gb_props['l_CSLbpb_CSLp'] = l_CSLbpb_CSLp\n",
    "gb_props['l_CSLbpbSig_CSLp'] = l_CSLbpbSig_CSLp\n",
    "\n",
    "pkl.dump(gb_props, jar); jar.close();\n",
    "########################################################################\n"
   ]
  },
  {
   "cell_type": "markdown",
   "metadata": {},
   "source": []
  }
 ],
 "metadata": {
  "kernelspec": {
   "display_name": "Python 3",
   "language": "python",
   "name": "python3"
  },
  "language_info": {
   "codemirror_mode": {
    "name": "ipython",
    "version": 3
   },
   "file_extension": ".py",
   "mimetype": "text/x-python",
   "name": "python",
   "nbconvert_exporter": "python",
   "pygments_lexer": "ipython3",
   "version": "3.7.3"
  }
 },
 "nbformat": 4,
 "nbformat_minor": 4
}
