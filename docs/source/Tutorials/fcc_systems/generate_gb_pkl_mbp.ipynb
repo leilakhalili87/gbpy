{
 "cells": [
  {
   "cell_type": "code",
   "execution_count": null,
   "metadata": {},
   "outputs": [],
   "source": []
  },
  {
   "cell_type": "code",
   "execution_count": null,
   "metadata": {},
   "outputs": [],
   "source": [
    "sig_id = '3_1'\n",
    "bpn_po1 = np.array([[1.0],[ 0.0],[ 0.0]])\n",
    "\n",
    "# sig_id = '3_1'\n",
    "# bpn_po1 = np.array([[4.0],[-1.0],[-3.0]])\n",
    "\n",
    "# sig_id = '5_1'\n",
    "# bpn_po1 = np.array([[0.0],[-1.0],[1.0]])\n",
    "\n",
    "# sig_id = '5_1'\n",
    "# bpn_po1 = np.array([[1.0],[-5.0],[5.0]])\n",
    "\n",
    "# sig_id = '7_1'\n",
    "# bpn_po1 = np.array([[4.0],[2.0],[1.0]])\n",
    "\n",
    "# sig_id = '7_1'\n",
    "# bpn_po1 = np.array([[13.0],[3.0],[-2.0]])\n",
    "\n",
    "# sig_id = '9_1'\n",
    "# bpn_po1 = np.array([[1.0],[-1.0],[1.0]])\n",
    "\n",
    "# sig_id = '9_1'\n",
    "# bpn_po1 = np.array([[2.0],[ 1.0],[2.0]])\n",
    "\n",
    "# sig_id = '11_1'\n",
    "# bpn_po1 = np.array([[12.0],[-1.0],[3.0]])\n",
    "\n",
    "# sig_id = '11_1'\n",
    "# bpn_po1 = np.array([[5.0],[-3.0],[1.0]])\n"
   ]
  },
  {
   "cell_type": "code",
   "execution_count": null,
   "metadata": {},
   "outputs": [],
   "source": []
  },
  {
   "cell_type": "code",
   "execution_count": null,
   "metadata": {},
   "outputs": [],
   "source": []
  }
 ],
 "metadata": {
  "kernelspec": {
   "display_name": "Python 3",
   "language": "python",
   "name": "python3"
  },
  "language_info": {
   "codemirror_mode": {
    "name": "ipython",
    "version": 3
   },
   "file_extension": ".py",
   "mimetype": "text/x-python",
   "name": "python",
   "nbconvert_exporter": "python",
   "pygments_lexer": "ipython3",
   "version": "3.7.3"
  }
 },
 "nbformat": 4,
 "nbformat_minor": 4
}
