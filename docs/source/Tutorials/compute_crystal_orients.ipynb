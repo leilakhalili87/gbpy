{
 "cells": [
  {
   "cell_type": "code",
   "execution_count": 1,
   "metadata": {},
   "outputs": [],
   "source": [
    "import pickle as pkl;\n",
    "import byxtal.lattice as gbl;\n",
    "import byxtal.find_csl_dsc as fcd;\n",
    "import byxtal.integer_manipulations as iman;\n",
    "import byxtal.bp_basis as bpb;\n",
    "import numpy as np;\n",
    "import math as mt;\n",
    "import gbpy.util_funcs_create_byxtal as uf\n",
    "\n",
    "from sympy.matrices import Matrix, eye, zeros;\n",
    "\n",
    "########## Variable Definitions\n",
    "## l_Cbpb_Cp:\n",
    "## Basis of the 2D lattice in the CSLp reference frame for the\n",
    "## given (hkl) plane.\n",
    "\n",
    "## l_CRbpb_Cp:\n",
    "## Basis of the 2D lattice such that the basis vectors have\n",
    "## length that is greater than rCut and the basis vectors are similar\n",
    "## in lengths and the angle between them is close to 90.\n",
    "## Defined in the CSLp reference frame\n",
    "\n",
    "##############################################################################\n",
    "l1 = gbl.Lattice('Al'); l_p_po = Matrix(l1.l_p_po); l_po_p = l_p_po.inv();\n",
    "\n",
    "##############################################################################\n",
    "##### Load bicrystallographic properties\n",
    "pkl_name = 'cubic_gb_props.pkl'; jar = open(pkl_name, 'rb');\n",
    "gb_props = pkl.load(jar); jar.close();\n",
    "lSig_CSLbpb_CSLp = gb_props['lSig_CSLbpb_CSLp'];\n",
    "lSig_CSLbpb_Rcut_CSLp = gb_props['lSig_CSLbpb_Rcut_CSLp'];\n",
    "hkl_sig_inds = gb_props['hkl_sig_inds'];"
   ]
  },
  {
   "cell_type": "code",
   "execution_count": 2,
   "metadata": {},
   "outputs": [],
   "source": [
    "import os;\n",
    "import byxtal;\n",
    "# path = os.path.dirname(byxtal.__file__)+'/tests/';\n",
    "path = os.path.dirname(byxtal.__file__)+'/data_files/';\n",
    "csl_pkl = path+l1.pearson+'_Id_csl_common_rotations.pkl';\n",
    "jar = open(csl_pkl,'rb'); s1=pkl.load(jar); jar.close();"
   ]
  },
  {
   "cell_type": "code",
   "execution_count": 3,
   "metadata": {},
   "outputs": [],
   "source": [
    "sig_mats = s1['sig_mats'];\n",
    "csl_mats = s1['csl_mats'];\n",
    "dsc_mats = s1['dsc_mats'];\n",
    "csl_bp_props = s1['csl_bp_props'];\n",
    "\n",
    "\n",
    "lat_par = l1.lat_params['a']; rCut = lat_par*3; A_cut = (rCut+lat_par)**2;\n",
    "\n",
    "s1_keys = list(hkl_sig_inds.keys());\n",
    "t_num = []; bpn_list = [];\n",
    "t1_num = 0; bpn_po1 = Matrix([[1.0],[ 0.0],[ 0.0]]);\n",
    "t_num.append(t1_num); bpn_list.append(bpn_po1);\n",
    "t1_num = 0; bpn_po1 = Matrix([[4.0],[-1.0],[-3.0]]);\n",
    "t_num.append(t1_num); bpn_list.append(bpn_po1);\n",
    "t1_num = 1; bpn_po1 = Matrix([[0.0],[-1.0],[1.0]]);\n",
    "t_num.append(t1_num); bpn_list.append(bpn_po1);\n",
    "t1_num = 1; bpn_po1 = Matrix([[1.0],[-5.0],[5.0]]);\n",
    "t_num.append(t1_num); bpn_list.append(bpn_po1);\n",
    "t1_num = 2; bpn_po1 = Matrix([[4.0],[2.0],[1.0]])\n",
    "t_num.append(t1_num); bpn_list.append(bpn_po1);\n",
    "t1_num = 2; bpn_po1 = Matrix([[13.0],[3.0],[-2.0]])\n",
    "t_num.append(t1_num); bpn_list.append(bpn_po1);\n",
    "t1_num = 3; bpn_po1 = Matrix([[1.0],[-1.0],[1.0]]);\n",
    "t_num.append(t1_num); bpn_list.append(bpn_po1);\n",
    "t1_num = 3; bpn_po1 = Matrix([[2.0],[ 1.0],[2.0]]);\n",
    "t_num.append(t1_num); bpn_list.append(bpn_po1);\n",
    "t1_num = 4; bpn_po1 = Matrix([[12.0],[-1.0],[3.0]]);\n",
    "t_num.append(t1_num); bpn_list.append(bpn_po1);\n",
    "t1_num = 4; bpn_po1 = Matrix([[5.0],[-3.0],[1.0]]);\n",
    "t_num.append(t1_num); bpn_list.append(bpn_po1);\n"
   ]
  },
  {
   "cell_type": "code",
   "execution_count": 4,
   "metadata": {},
   "outputs": [
    {
     "name": "stdout",
     "output_type": "stream",
     "text": [
      "Sig ID: 1 -- 5_1\n"
     ]
    }
   ],
   "source": [
    "tct1 = 3\n",
    "t1_num = t_num[tct1]\n",
    "bpn_po1 = bpn_list[tct1]\n",
    "\n",
    "sig_id = s1_keys[t1_num]\n",
    "print(\"Sig ID: \"+ str(t1_num) + \" -- \"+ sig_id)\n"
   ]
  },
  {
   "cell_type": "code",
   "execution_count": 5,
   "metadata": {},
   "outputs": [
    {
     "name": "stdout",
     "output_type": "stream",
     "text": [
      "Al_S5_1_N1_1_-5_5_N2_-1_1_-7\n"
     ]
    }
   ],
   "source": [
    "\n",
    "l_csl_p1 = csl_mats[sig_id];\n",
    "l_csl_po1 = l_p_po*l_csl_p1;\n",
    "\n",
    "\n",
    "##############################################################################\n",
    "#### From MBP\n",
    "sig_id = s1_keys[t1_num];\n",
    "l_rp_po = fcd.reciprocal_mat(l_csl_po1);\n",
    "l_po_rp = l_rp_po.inv();\n",
    "norm_uvec = bpn_po1/bpn_po1.norm();\n",
    "n1_rp = l_po_rp*norm_uvec;\n",
    "hkl_ind = iman.int_finder(n1_rp);\n",
    "hkl1 = (np.array(hkl_ind, dtype='double')).T;\n",
    "import gbpy.generate_hkl_indices as ghi;\n",
    "# l_CSLbpb_CSLp = ghi.compute_hkl_bpb(hkl1);\n",
    "l_Cbpb_Cp = ghi.compute_hkl_bpb(hkl1);\n",
    "l_CSLbpbSig_CSLp = ghi.gen_Acut_bpb(l_Cbpb_Cp, l_csl_po1, rCut, A_cut);\n",
    "l_CRbpb_Cp=l_CSLbpbSig_CSLp[0];\n",
    "\n",
    "##############################################################################\n",
    "\n",
    "l_bp_po1 = l_csl_po1*l_CRbpb_Cp;\n",
    "\n",
    "symm_grp_ax = csl_bp_props[sig_id]['symm_grp_ax'];\n",
    "bp_symm_grp = csl_bp_props[sig_id]['bp_symm_grp'];\n",
    "\n",
    "l_p2_p1 = Matrix(sig_mats[sig_id]);\n",
    "gb_ID = uf.get_gb_uID(l_bp_po1, l_p2_p1, l_p_po, bp_symm_grp, symm_grp_ax, sig_id);\n",
    "print(gb_ID);"
   ]
  },
  {
   "cell_type": "code",
   "execution_count": 6,
   "metadata": {},
   "outputs": [],
   "source": [
    "zCut = 25*l1.lat_params['a'];\n",
    "\n",
    "threeD_upts, sim_cell2 = uf.create_half_cryst(l_csl_p1, l_CRbpb_Cp, l_p_po, 'upper', zCut)\n",
    "\n",
    "l_p1_p2 = l_p2_p1.inv(); l_csl_p2 = l_p1_p2*l_csl_p1;\n",
    "threeD_lpts, sim_cell1 = uf.create_half_cryst(l_csl_p2, l_CRbpb_Cp, l_p_po, 'lower', zCut)\n",
    "\n",
    "pkl_name = 'gb_attr_'+gb_ID+'.pkl';\n",
    "jar = open(pkl_name,'wb'); pkl.dump(gb_attr, jar); jar.close();\n",
    "\n",
    "gb_attr = {};\n",
    "gb_attr['cell'] = sim_cell1;\n",
    "gb_attr['upts'] = threeD_upts;\n",
    "gb_attr['lpts'] = threeD_lpts;"
   ]
  },
  {
   "cell_type": "code",
   "execution_count": 7,
   "metadata": {},
   "outputs": [],
   "source": [
    "### Points with Y-axis perpendicular to the GB\n",
    "rot_mat = np.array([[1.0, 0, 0], [0, 0.0, -1.0], [0, 1.0, 0.0]])\n",
    "threeD_lypts = (np.dot(rot_mat, threeD_upts.transpose())).transpose();\n",
    "threeD_uypts = (np.dot(rot_mat, threeD_lpts.transpose())).transpose();\n",
    "\n",
    "sim_cell2 = 0*sim_cell1\n",
    "sim_cell2[:,0] = sim_cell1[:,0]\n",
    "\n",
    "sim_cell2[0,1] = sim_cell1[0,2]\n",
    "sim_cell2[1,1] = sim_cell1[2,2]\n",
    "sim_cell2[2,1] = sim_cell1[1,2]\n",
    "\n",
    "sim_cell2[0,2] = sim_cell1[0,1]\n",
    "sim_cell2[1,2] = sim_cell1[2,1]\n",
    "sim_cell2[2,2] = sim_cell1[1,1]\n",
    "sim_cell2[1,3] = sim_cell1[2,3]\n",
    "\n",
    "gbY_attr = {};\n",
    "gbY_attr['cell'] = sim_cell2;\n",
    "gbY_attr['upts'] = threeD_lypts;\n",
    "gbY_attr['lpts'] = threeD_uypts;\n",
    "\n",
    "pkl_name = 'gbY_attr_'+gb_ID+'.pkl';\n",
    "jar = open(pkl_name,'wb'); pkl.dump(gbY_attr, jar); jar.close();"
   ]
  },
  {
   "cell_type": "code",
   "execution_count": 15,
   "metadata": {},
   "outputs": [],
   "source": [
    "# print(sim_cell2[:,0])\n",
    "# print(sim_cell2[:,1])\n",
    "# print(sim_cell2[:,2])\n",
    "# print(sim_cell2[:,3])"
   ]
  },
  {
   "cell_type": "code",
   "execution_count": 9,
   "metadata": {},
   "outputs": [],
   "source": [
    "# uf.create_half_cryst(l_csl_p1, l_CRbpb_Cp, l_p_po, 'upper', zCut)\n",
    "# create_half_cryst(l_csl_p1, l_bp_CSLp, l_p_po, cryst_typ, zCut)\n",
    "l_bp_po1 = l_csl_po1*l_CRbpb_Cp;\n",
    "# l_bpb_p1, l2D_bp_po1, twoD_pts = create_twoD_slab(l_bp_po1, l_p_po);"
   ]
  },
  {
   "cell_type": "code",
   "execution_count": 10,
   "metadata": {},
   "outputs": [
    {
     "data": {
      "text/latex": [
       "$\\displaystyle \\left[\\begin{matrix}2.5 & -2.5\\\\2.0 & 3.0\\\\1.5 & 3.5\\end{matrix}\\right]$"
      ],
      "text/plain": [
       "Matrix([\n",
       "[2.5, -2.5],\n",
       "[2.0,  3.0],\n",
       "[1.5,  3.5]])"
      ]
     },
     "execution_count": 10,
     "metadata": {},
     "output_type": "execute_result"
    }
   ],
   "source": [
    "(l_bp_po1/l1.lat_params['a'])"
   ]
  }
 ],
 "metadata": {
  "kernelspec": {
   "display_name": "Python 3",
   "language": "python",
   "name": "python3"
  },
  "language_info": {
   "codemirror_mode": {
    "name": "ipython",
    "version": 3
   },
   "file_extension": ".py",
   "mimetype": "text/x-python",
   "name": "python",
   "nbconvert_exporter": "python",
   "pygments_lexer": "ipython3",
   "version": "3.7.3"
  }
 },
 "nbformat": 4,
 "nbformat_minor": 4
}
