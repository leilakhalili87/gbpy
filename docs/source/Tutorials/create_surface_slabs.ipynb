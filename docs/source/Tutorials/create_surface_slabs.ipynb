{
 "cells": [
  {
   "cell_type": "code",
   "execution_count": 47,
   "metadata": {},
   "outputs": [],
   "source": [
    "import byxtal.lattice as gbl;\n",
    "import byxtal.find_csl_dsc as fcd;\n",
    "import byxtal.integer_manipulations as iman;\n",
    "import byxtal.bp_basis as bpb;\n",
    "import numpy as np;\n",
    "import math as mt;\n",
    "import gbpy.util_funcs_create_byxtal as uf\n",
    "import gbpy.generate_hkl_indices as ghi\n",
    "\n",
    "from sympy.matrices import Matrix, eye, zeros;\n"
   ]
  },
  {
   "cell_type": "code",
   "execution_count": 48,
   "metadata": {},
   "outputs": [],
   "source": [
    "l1 = gbl.Lattice('Al'); l_p_po = Matrix(l1.l_p_po); l_po_p = l_p_po.inv();"
   ]
  },
  {
   "cell_type": "code",
   "execution_count": 65,
   "metadata": {},
   "outputs": [],
   "source": [
    "## (h k l) indices of the fcc lattice (described in p)\n",
    "h = 3\n",
    "k = 4\n",
    "l = 7\n",
    "\n",
    "hkl_p = Matrix([h,k,l])\n",
    "# hkl_p1\n",
    "l_bpb_p = bpb.bp_basis(hkl_p)\n",
    "l_bpb_p = Matrix(l_bpb_p.astype(int));\n",
    "l_bpb_po = l_p_po*l_bpb_p\n",
    "\n",
    "\n",
    "lat_par = l1.lat_params['a']\n",
    "r_cut = lat_par*4;\n",
    "A_cut = rCut**2;\n",
    "#####################################################################\n",
    "### Area of the 2D unit-cell\n",
    "area_bpl = (l_bpb_po[:,0].cross(l_bpb_po[:,1])).norm()\n",
    "sig_num = np.ceil(A_cut/area_bpl);\n",
    "\n",
    "\n",
    "#####################################################################\n",
    "ind2 = np.array([], dtype='int64');\n",
    "while (np.size(ind2) == 0):\n",
    "    hnf_mats = ghi.sig_hnf_mats(sig_num);\n",
    "    # print(hnf_mats)\n",
    "    l_sig_p_mats, l_sig_po_mats = ghi.compute_hnf_props(hnf_mats, l_bpb_p, l_p_po);\n",
    "    # print(l_sig_p_mats)\n",
    "    ind2 = ghi.ind_min_cost(l_sig_po_mats, r_cut);\n",
    "    sig_num = sig_num + 1;\n",
    "\n",
    "l_bpbSig_p = l_sig_p_mats[ind2];\n",
    "l_bpbSig_p = Matrix(l_bpbSig_p.astype(int));\n",
    "l_bpbSig_po = l_p_po*l_bpbSig_p"
   ]
  },
  {
   "cell_type": "code",
   "execution_count": 77,
   "metadata": {},
   "outputs": [],
   "source": [
    "l_po_go = uf.compute_orientation(l_bpbSig_po)\n",
    "l2D_bpbSig_go = l_po_go*l_bpbSig_po\n",
    "l2D_bpb_go = l_po_go*l_bpb_po\n",
    "twoD_mat = l2D_bpb_go[:2,:]\n",
    "twoDSig_mat = l2D_bpbSig_go[:2,:]\n",
    "r_cut1 = uf.compute_rCut(l_bpbSig_po)\n",
    "twoD_pts = uf.replicate_pts(twoD_mat, r_cut1)\n",
    "twoD_pts = uf.remove_periodic_overlaps(twoD_pts, twoDSig_mat)"
   ]
  },
  {
   "cell_type": "code",
   "execution_count": 78,
   "metadata": {},
   "outputs": [
    {
     "data": {
      "text/plain": [
       "array([[ 0.        ,  0.        ],\n",
       "       [-2.35401468, 14.12408811],\n",
       "       [ 0.94160587, 11.77007342],\n",
       "       [ 4.23722643,  9.41605874],\n",
       "       [ 7.53284699,  7.06204405],\n",
       "       [10.82846755,  4.70802937],\n",
       "       [14.12408811,  2.35401468]])"
      ]
     },
     "execution_count": 78,
     "metadata": {},
     "output_type": "execute_result"
    }
   ],
   "source": [
    "twoD_pts"
   ]
  },
  {
   "cell_type": "code",
   "execution_count": 74,
   "metadata": {},
   "outputs": [
    {
     "data": {
      "text/latex": [
       "$\\displaystyle \\left[\\begin{matrix}17.4197086657613 & -5.64963524294962\\\\0 & 16.4781027919364\\end{matrix}\\right]$"
      ],
      "text/plain": [
       "Matrix([\n",
       "[17.4197086657613, -5.64963524294962],\n",
       "[               0,  16.4781027919364]])"
      ]
     },
     "execution_count": 74,
     "metadata": {},
     "output_type": "execute_result"
    }
   ],
   "source": [
    "twoDSig_mat"
   ]
  },
  {
   "cell_type": "code",
   "execution_count": 75,
   "metadata": {},
   "outputs": [
    {
     "data": {
      "text/latex": [
       "$\\displaystyle 20.25$"
      ],
      "text/plain": [
       "20.2500000000000"
      ]
     },
     "execution_count": 75,
     "metadata": {},
     "output_type": "execute_result"
    }
   ],
   "source": [
    "r_cut1"
   ]
  },
  {
   "cell_type": "code",
   "execution_count": 28,
   "metadata": {},
   "outputs": [],
   "source": [
    "twoD_pts = uf.replicate_pts(twoD_mat, rCut);\n",
    "twoD_pts = uf.remove_periodic_overlaps(twoD_pts, twoDSig_mat)"
   ]
  },
  {
   "cell_type": "code",
   "execution_count": 29,
   "metadata": {},
   "outputs": [
    {
     "data": {
      "text/plain": [
       "array([[0., 0.]])"
      ]
     },
     "execution_count": 29,
     "metadata": {},
     "output_type": "execute_result"
    }
   ],
   "source": [
    "twoD_pts"
   ]
  },
  {
   "cell_type": "code",
   "execution_count": 79,
   "metadata": {},
   "outputs": [],
   "source": [
    "import matplotlib\n",
    "import numpy as np\n",
    "import matplotlib.pyplot as plt\n",
    "%matplotlib inline"
   ]
  },
  {
   "cell_type": "code",
   "execution_count": 119,
   "metadata": {},
   "outputs": [],
   "source": [
    "def plot_2d_pts_box(twoD_pts, twoD_mat, orig):\n",
    "    ################################################################################\n",
    "    l1 = np.copy(twoD_mat);\n",
    "    avec = l1[:,0]; bvec=l1[:,1];\n",
    "    pts = np.zeros((4,2));\n",
    "    pts[0,:] = orig;\n",
    "    pts[1,:] = orig+avec; pts[2,:] = orig+avec+bvec; pts[3,:] = orig+bvec;\n",
    "    tinds = [0,1,2,3,0];\n",
    "    x1=pts[tinds,0];y1=pts[tinds,1];\n",
    "    plt.plot(x1,y1);\n",
    "\n",
    "    pts = np.copy(twoD_pts);\n",
    "    x1=pts[:,0];y1=pts[:,1];\n",
    "    plt.scatter(x1,y1);\n",
    "    ################################################################################"
   ]
  },
  {
   "cell_type": "code",
   "execution_count": 120,
   "metadata": {},
   "outputs": [
    {
     "data": {
      "text/plain": [
       "(array([17.41970867,  0.        ]), array([-5.64963524, 16.47810279]))"
      ]
     },
     "execution_count": 120,
     "metadata": {},
     "output_type": "execute_result"
    }
   ],
   "source": [
    "twoDSig_mat_arr = np.array(twoDSig_mat,dtype='float')\n",
    "a_vec = twoDSig_mat_arr[:,0]; b_vec = twoDSig_mat_arr[:,1]\n",
    "a_vec, b_vec"
   ]
  },
  {
   "cell_type": "code",
   "execution_count": 121,
   "metadata": {},
   "outputs": [
    {
     "data": {
      "text/plain": [
       "array([[17.41970867, -5.64963524],\n",
       "       [ 0.        , 16.47810279]])"
      ]
     },
     "execution_count": 121,
     "metadata": {},
     "output_type": "execute_result"
    }
   ],
   "source": [
    "twoDSig_mat_arr"
   ]
  },
  {
   "cell_type": "code",
   "execution_count": 125,
   "metadata": {},
   "outputs": [
    {
     "data": {
      "image/png": "[encoded data removed]",
      "text/plain": [
       "<Figure size 432x288 with 1 Axes>"
      ]
     },
     "metadata": {
      "needs_background": "light"
     },
     "output_type": "display_data"
    }
   ],
   "source": [
    "for tct1 in range(3):\n",
    "    for tct2 in range(3):\n",
    "        twoD_pts1 = 0*twoD_pts;\n",
    "        orig = np.array([0,0])\n",
    "        ct1 = tct1-1;\n",
    "        ct2 = tct2-1;\n",
    "        ct3 = 0; \n",
    "\n",
    "        twoD_pts1[:,ct3]    = twoD_pts[:,ct3]     + ct1*a_vec[ct3] + ct2*b_vec[ct3]\n",
    "\n",
    "        ct3 = 1; \n",
    "        twoD_pts1[:,ct3]    = twoD_pts[:,ct3]     + ct1*a_vec[ct3] + ct2*b_vec[ct3]\n",
    "        orig = ct1*a_vec + ct2*b_vec;\n",
    "        plot_2d_pts_box(twoD_pts1, twoDSig_mat_arr, orig)\n",
    "        # orig = ct1*a_vec + ct2*b_vec;\n",
    "        # print(orig)"
   ]
  },
  {
   "cell_type": "code",
   "execution_count": null,
   "metadata": {},
   "outputs": [],
   "source": []
  }
 ],
 "metadata": {
  "kernelspec": {
   "display_name": "Python 3",
   "language": "python",
   "name": "python3"
  },
  "language_info": {
   "codemirror_mode": {
    "name": "ipython",
    "version": 3
   },
   "file_extension": ".py",
   "mimetype": "text/x-python",
   "name": "python",
   "nbconvert_exporter": "python",
   "pygments_lexer": "ipython3",
   "version": "3.7.3"
  }
 },
 "nbformat": 4,
 "nbformat_minor": 4
}
