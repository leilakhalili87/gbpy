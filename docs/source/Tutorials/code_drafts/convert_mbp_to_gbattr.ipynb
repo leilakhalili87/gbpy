{
 "cells": [
  {
   "cell_type": "code",
   "execution_count": 1,
   "metadata": {},
   "outputs": [],
   "source": [
    "import pickle as pkl\n",
    "import byxtal.lattice as gbl\n",
    "import byxtal.find_csl_dsc as fcd\n",
    "import byxtal.integer_manipulations as iman\n",
    "import byxtal.bp_basis as bpb\n",
    "import numpy as np\n",
    "import math as mt\n",
    "import gbpy.util_funcs_create_byxtal as uf\n",
    "from sympy.matrices import Matrix, eye, zeros\n",
    "import os\n",
    "import byxtal"
   ]
  },
  {
   "cell_type": "code",
   "execution_count": 2,
   "metadata": {},
   "outputs": [],
   "source": [
    "l1 = gbl.Lattice('Al')\n",
    "l_p_po = Matrix(l1.l_p_po)\n",
    "l_po_p = l_p_po.inv()\n",
    "path = os.path.dirname(byxtal.__file__)+'/data_files/'\n",
    "csl_pkl = path+l1.pearson+'_Id_csl_common_rotations.pkl'\n",
    "jar = open(csl_pkl,'rb')\n",
    "s1=pkl.load(jar)\n",
    "jar.close()"
   ]
  },
  {
   "cell_type": "code",
   "execution_count": 3,
   "metadata": {},
   "outputs": [],
   "source": [
    "sig_mats = s1['sig_mats']\n",
    "csl_mats = s1['csl_mats']\n",
    "dsc_mats = s1['dsc_mats']\n",
    "csl_bp_props = s1['csl_bp_props']"
   ]
  },
  {
   "cell_type": "code",
   "execution_count": 4,
   "metadata": {},
   "outputs": [],
   "source": [
    "s1_keys = list(sig_mats.keys())\n",
    "t1_num = 0\n",
    "ct1 = 12\n",
    "\n",
    "sig_id = s1_keys[t1_num]\n",
    "# print(\"Sig ID: \"+ str(t1_num) + \" -- \"+ sig_id)\n",
    "\n",
    "bpn_po1 = Matrix([[4.0],[-1.0],[-3.0]])\n",
    "norm_uvec = bpn_po1/bpn_po1.norm()\n",
    "l_csl_p1 = csl_mats[sig_id]\n",
    "l_csl_po1 = l_p_po*l_csl_p1\n",
    "l_rp_po = fcd.reciprocal_mat(l_csl_po1)\n",
    "l_po_rp = l_rp_po.inv()\n",
    "n1_rp = l_po_rp*norm_uvec\n",
    "hkl_ind = iman.int_finder(n1_rp)\n",
    "\n",
    "hkl1 = (np.array(hkl_ind, dtype='double')).T"
   ]
  },
  {
   "cell_type": "code",
   "execution_count": 5,
   "metadata": {},
   "outputs": [],
   "source": [
    "import gbpy.generate_hkl_indices as ghi\n",
    "l_CSLbpb_CSLp = ghi.compute_hkl_bpb(hkl1)\n",
    "lat_par = l1.lat_params['a']\n",
    "rCut = lat_par*3\n",
    "A_cut = (rCut+lat_par)**2\n",
    "\n",
    "l_CSLbpbSig_CSLp = ghi.gen_Acut_bpb(l_CSLbpb_CSLp, l_csl_po1, rCut, A_cut)"
   ]
  },
  {
   "cell_type": "code",
   "execution_count": 6,
   "metadata": {},
   "outputs": [
    {
     "data": {
      "text/plain": [
       "array([[[2., 0.],\n",
       "        [7., 0.],\n",
       "        [0., 3.]]])"
      ]
     },
     "execution_count": 6,
     "metadata": {},
     "output_type": "execute_result"
    }
   ],
   "source": [
    "l_CSLbpbSig_CSLp"
   ]
  }
 ],
 "metadata": {
  "kernelspec": {
   "display_name": "Python 3",
   "language": "python",
   "name": "python3"
  },
  "language_info": {
   "codemirror_mode": {
    "name": "ipython",
    "version": 3
   },
   "file_extension": ".py",
   "mimetype": "text/x-python",
   "name": "python",
   "nbconvert_exporter": "python",
   "pygments_lexer": "ipython3",
   "version": "3.7.3"
  }
 },
 "nbformat": 4,
 "nbformat_minor": 4
}
