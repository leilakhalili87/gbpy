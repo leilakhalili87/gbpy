{
 "cells": [
  {
   "cell_type": "markdown",
   "metadata": {},
   "source": [
    "## Creating the Bicrystal\n",
    "In this code the bicrystal is created and saved as a lammps-dump file.\n",
    "This tutorial has the following sections:\n",
    "1. Load relevant modules\n",
    "2. define necessary parameters\n",
    "    + Lattice (here Mg)\n",
    "    + Cut-off radius (r_cut)\n",
    "3. uploading necessary files\n",
    "    + `pkl_name_prop`: A dictionary which contains the bicrystallography properties for each Σ-miorientation.\n",
    "    + `pkl_name_inds`: A dictionary which contains the list of boundary-plane orientations in hkl_sig_inds.\n",
    "4. "
   ]
  },
  {
   "cell_type": "code",
   "execution_count": 1,
   "metadata": {},
   "outputs": [],
   "source": [
    "import byxtal.tools as gbt\n",
    "import byxtal.lattice as gbl\n",
    "import pickle as pkl\n",
    "import numpy as np\n",
    "import numpy.linalg as nla\n",
    "import byxtal.misorient_fz as mfz\n",
    "import gbpy.generate_hkl_indices as ghi\n",
    "import gbpy.util_funcs_create_byxtal as uf"
   ]
  },
  {
   "cell_type": "markdown",
   "metadata": {},
   "source": [
    "1. `l1`         : Lattice object\n",
    "2. `lat_par`    : Lattice parameter\n",
    "3. `r_cut`      : Cutoff radius\n",
    "4. `A_cut`      : Cutoff Area\n",
    "5. `l_p_po`   : $\\Lambda_{p}^{po}$\n",
    "6. `l_po_p`   : $\\Lambda_{po}^{p}$"
   ]
  },
  {
   "cell_type": "code",
   "execution_count": 2,
   "metadata": {},
   "outputs": [],
   "source": [
    "########################################################################\n",
    "l1=gbl.Lattice('Mg_sun')\n",
    "lat_par = l1.lat_params['a']\n",
    "rCut = lat_par*3\n",
    "A_cut = (rCut+lat_par)**2\n",
    "\n",
    "l_p_po = l1.l_p_po\n",
    "l_po_p = nla.inv(l_p_po)"
   ]
  },
  {
   "cell_type": "markdown",
   "metadata": {},
   "source": [
    "`pkl_name_prop`: The calculated bicrystallography properties for each $\\Sigma$-miorientation includes:\n",
    "\n",
    "1. `sig_mats`: The $\\Sigma$-miorientation in the primitive $p$ reference frame. For example, we use the variable `T_p1top2_p1`\n",
    "2. `csl_mats`: The CSL lattice basis vectors in the primitive $p$ reference frame. For example, we use the variable `l_csl_p` denoting $\\Lambda_{csl}^p$\n",
    "3. `dsc_mats`: The DSC lattice basis vectors in the primitive $p$ reference frame. For example, we use the variable `l_dsc_p` denoting $\\Lambda_{dsc}^p$\n",
    "4. `bxt_symm_props`: The symmetry aspects of the $\\Sigma$-miorientation\n",
    "    + `bxt_symm_grp`: The point-group symmetry of the bicrystal. This is the symmetry for the Boundary-plane orientations.\n",
    "    + `symm_grp_ax`: The axes of the symmetry point-group.\n",
    "\n",
    "`pkl_name_ind`: The bicrystallography properties for each Σ-miorientation includes:\n",
    "1. `l_p_po1`: $\\Lambda_p^{po}$\n",
    "2. `miller_inds`: Indices of boundary-plane orientation for a given Σ-misorientation"
   ]
  },
  {
   "cell_type": "code",
   "execution_count": 3,
   "metadata": {},
   "outputs": [],
   "source": [
    "pkl_name_prop = l1.elem_type+'_byxtal_props.pkl'\n",
    "jar = open(pkl_name_prop, 'rb');\n",
    "\n",
    "csl_props = pkl.load(jar)\n",
    "sig_mats = csl_props['sig_mats']\n",
    "csl_mats = csl_props['csl_mats']\n",
    "dsc_mats = csl_props['dsc_mats']\n",
    "bxt_symm_props = csl_props['csl_symm_props']\n",
    "jar.close()\n",
    "\n",
    "pkl_name_ind = 'bp_list_' + l1.elem_type + '.pkl'\n",
    "jar = open(pkl_name_ind, 'rb');\n",
    "\n",
    "bp_list = pkl.load(jar)\n",
    "l_p_po = bp_list['l_p_po']\n",
    "hkl_sig_inds = bp_list['miller_inds']\n",
    "jar.close()\n"
   ]
  },
  {
   "cell_type": "code",
   "execution_count": null,
   "metadata": {},
   "outputs": [],
   "source": []
  },
  {
   "cell_type": "code",
   "execution_count": 4,
   "metadata": {},
   "outputs": [
    {
     "name": "stdout",
     "output_type": "stream",
     "text": [
      "13_1\n"
     ]
    }
   ],
   "source": [
    "s1_keys = list(hkl_sig_inds.keys())\n",
    "ind1 = 1\n",
    "sig_id = s1_keys[ind1]\n",
    "print(sig_id)\n",
    "hkl_inds = hkl_sig_inds[sig_id]\n",
    "l_csl_p1 = csl_mats[sig_id]\n",
    "l_csl_po1 = l_p_po.dot(l_csl_p1)"
   ]
  },
  {
   "cell_type": "code",
   "execution_count": 6,
   "metadata": {},
   "outputs": [
    {
     "name": "stdout",
     "output_type": "stream",
     "text": [
      "0\n",
      "Mg_sun_S13_1_N1_0_0_1_N2_0_0_-1\n"
     ]
    }
   ],
   "source": [
    "for hkl_ct in range(1):\n",
    "    tct1 = hkl_ct\n",
    "    hkl1 = np.zeros((1,3), dtype='int64')\n",
    "    hkl1[0,:] = hkl_inds[tct1,:]\n",
    "    l_CSLbpb_CSLp = {}\n",
    "    l_CSLbpbSig_CSLp = {}\n",
    "\n",
    "    l_CSLbpb_CSLp_mat = ghi.compute_hkl_bpb(hkl1)\n",
    "    l_CSLbpbSig_CSLp_mat = ghi.gen_Acut_bpb(l_CSLbpb_CSLp_mat, l_csl_po1, rCut, A_cut)\n",
    "\n",
    "    l_Cbpb_Cp  = l_CSLbpb_CSLp_mat[0]\n",
    "    l_CRbpb_Cp = l_CSLbpbSig_CSLp_mat[0]\n",
    "\n",
    "    l_bp_po1 = l_csl_po1.dot(l_CRbpb_Cp)\n",
    "\n",
    "    symm_grp_ax = bxt_symm_props[sig_id]['symm_grp_ax'];\n",
    "    bp_symm_grp = bxt_symm_props[sig_id]['bxt_symm_grp'];\n",
    "\n",
    "    l_p2_p1 = sig_mats[sig_id]\n",
    "    gb_ID = uf.get_gb_uID(l1, l_bp_po1, l_p2_p1, l_p_po, bp_symm_grp, symm_grp_ax, sig_id)\n",
    "    print(hkl_ct)\n",
    "    print(gb_ID)"
   ]
  },
  {
   "cell_type": "code",
   "execution_count": 7,
   "metadata": {},
   "outputs": [],
   "source": [
    "zCut = 25*l1.lat_params['a']\n",
    "\n",
    "threeD_upts, sim_cell2 = uf.create_half_cryst(l1, l_csl_p1, l_CRbpb_Cp, l_p_po, 'upper', zCut)\n",
    "\n",
    "l_p1_p2 = nla.inv(l_p2_p1)\n",
    "l_csl_p2 = l_p1_p2.dot(l_csl_p1)\n",
    "threeD_lpts, sim_cell1 = uf.create_half_cryst(l1, l_csl_p2, l_CRbpb_Cp, l_p_po, 'lower', zCut)"
   ]
  },
  {
   "cell_type": "markdown",
   "metadata": {},
   "source": []
  },
  {
   "cell_type": "code",
   "execution_count": 8,
   "metadata": {},
   "outputs": [],
   "source": [
    "gb_attr = {}\n",
    "gb_attr['cell'] = sim_cell1\n",
    "gb_attr['upts'] = threeD_upts\n",
    "gb_attr['lpts'] = threeD_lpts\n",
    "gb_attr['lattice'] = l1.elem_type\n",
    "\n",
    "pkl_name = 'gb_attr_' + gb_ID + '.pkl'\n",
    "jar = open(pkl_name,'wb')\n",
    "pkl.dump(gb_attr, jar)\n",
    "jar.close()"
   ]
  },
  {
   "cell_type": "markdown",
   "metadata": {},
   "source": [
    "Lammps dump file is saved!"
   ]
  },
  {
   "cell_type": "code",
   "execution_count": 10,
   "metadata": {},
   "outputs": [],
   "source": [
    "import gbpy.lammps_dump_writer as ldw\n",
    "initial_dump = 'gb_attr_' + gb_ID + '.out'\n",
    "box_bound, dump_lamp, box_type = ldw.lammps_box(pkl_name)  # lammps creates from the pkl file\n",
    "ldw.write_lammps_dump(initial_dump, box_bound, dump_lamp, box_type)"
   ]
  },
  {
   "cell_type": "code",
   "execution_count": null,
   "metadata": {},
   "outputs": [],
   "source": []
  }
 ],
 "metadata": {
  "kernelspec": {
   "display_name": "Python 3",
   "language": "python",
   "name": "python3"
  },
  "language_info": {
   "codemirror_mode": {
    "name": "ipython",
    "version": 3
   },
   "file_extension": ".py",
   "mimetype": "text/x-python",
   "name": "python",
   "nbconvert_exporter": "python",
   "pygments_lexer": "ipython3",
   "version": "3.8.5"
  }
 },
 "nbformat": 4,
 "nbformat_minor": 4
}
