{
 "cells": [
  {
   "cell_type": "markdown",
   "metadata": {},
   "source": [
    "# Compute Bicrystallographic properties\n",
    "\n",
    "In this code, we compute and save the bicrystallography properties for each $\\Sigma$-miorientation. These properties include:\n",
    "1. `sig_mats`: The $\\Sigma$-miorientation in the primitive $p$ reference frame. For example, we use the variable `T_p1top2_p1`\n",
    "2. `csl_mats`: The CSL lattice basis vectors in the primitive $p$ reference frame. For example, we use the variable `l_csl_p` denoting $\\Lambda_{csl}^p$\n",
    "3. `dsc_mats`: The DSC lattice basis vectors in the primitive $p$ reference frame. For example, we use the variable `l_dsc_p` denoting $\\Lambda_{dsc}^p$\n",
    "4. `bxt_symm_props`: The symmetry aspects of the $\\Sigma$-miorientation\n",
    "    + `bxt_symm_grp`: The point-group symmetry of the bicrystal. This is the symmetry for the Boundary-plane orientations.\n",
    "    + `symm_grp_ax`: The axes of the symmetry point-group."
   ]
  },
  {
   "cell_type": "code",
   "execution_count": 22,
   "metadata": {},
   "outputs": [],
   "source": [
    "import byxtal.lattice as gbl\n",
    "import byxtal.csl_utility_functions as cuf\n",
    "import byxtal.find_csl_dsc as fcd\n",
    "import numpy as np\n",
    "import byxtal.tools as gbt\n",
    "import byxtal.misorient_fz as mfz\n",
    "import byxtal.disorient_symm_props as dsp"
   ]
  },
  {
   "cell_type": "markdown",
   "metadata": {},
   "source": [
    "1. `l1`: The lattice object.\n",
    "2. `l_p_po`: $\\Lambda_p^{po}$"
   ]
  },
  {
   "cell_type": "code",
   "execution_count": 25,
   "metadata": {},
   "outputs": [
    {
     "name": "stdout",
     "output_type": "stream",
     "text": [
      "7_1\n",
      "[True, True]\n",
      "1\n",
      "13_1\n",
      "[True, True]\n",
      "2\n",
      "19_1\n",
      "[True, True]\n",
      "3\n"
     ]
    }
   ],
   "source": [
    "l1 = gbl.Lattice('hp_id')\n",
    "sig_type = 'common'\n",
    "l_p_po = l1.l_p_po\n",
    "\n",
    "### For cubic only odd Sigma numbers exist!\n",
    "n1 = 1\n",
    "n2 = 10\n",
    "sig_nums = 2*np.arange(n1,n2)+1\n",
    "\n",
    "num_sigs = 0\n",
    "sig_mats = {}\n",
    "csl_mats = {}\n",
    "dsc_mats = {}\n",
    "bxt_symm_props = {}\n",
    "\n",
    "for sig_num in sig_nums:\n",
    "    s1 = cuf.csl_rotations(sig_num, sig_type, l1)\n",
    "    for ct1 in range(np.shape(s1['N'])[0]):\n",
    "        symm_grp_props = {}\n",
    "        sig_id = str(sig_num)+'_'+str(ct1+1)\n",
    "        print(sig_id)\n",
    "        #### Store the sigma-misorientation (in 'p' reference frame)\n",
    "        T_p1top2_p1 = s1['N'][ct1]/s1['D'][ct1]\n",
    "        sig_mats[sig_id] = T_p1top2_p1\n",
    "\n",
    "        l_csl_p, l_dsc_p = fcd.find_csl_dsc(l_p_po, T_p1top2_p1, 1e-6, False)\n",
    "        csl_mats[sig_id] = l_csl_p; dsc_mats[sig_id] = l_dsc_p;\n",
    "\n",
    "        #### Generate boundary-planpe orientations\n",
    "        l_p_po = l1.l_p_po\n",
    "        l_po_p = np.linalg.inv(l_p_po)\n",
    "        T_p1top2_po1 = np.dot(l_p_po, np.dot(T_p1top2_p1, l_po_p))\n",
    "\n",
    "        ## Find the corresponding disorientation\n",
    "        quat1 = gbt.mat2quat(T_p1top2_po1)\n",
    "        # print(quat1)\n",
    "        dis_quat1 = mfz.misorient_fz(quat1, l1.cryst_ptgrp)\n",
    "        # print(dis_quat1)\n",
    "        x_g, y_g, z_g, bxt_symm_grp = dsp.disorient_symm_props(dis_quat1, l1.cryst_ptgrp)\n",
    "        symm_grp_ax = (np.vstack((x_g, y_g, z_g))).transpose()\n",
    "        symm_grp_props['symm_grp_ax'] = symm_grp_ax\n",
    "        symm_grp_props['bxt_symm_grp'] = bxt_symm_grp\n",
    "        bxt_symm_props[sig_id] = symm_grp_props\n",
    "        num_sigs = num_sigs + 1\n",
    "        print(num_sigs)\n",
    "\n",
    "import pickle as pkl;\n",
    "pkl_name = l1.elem_type+'_byxtal_props.pkl'\n",
    "csl_props = {}\n",
    "csl_props['sig_mats'] = sig_mats\n",
    "csl_props['csl_mats'] = csl_mats\n",
    "csl_props['dsc_mats'] = dsc_mats\n",
    "csl_props['csl_symm_props'] = bxt_symm_props\n",
    "\n",
    "jar = open(pkl_name, 'wb')\n",
    "pkl.dump(csl_props, jar)\n",
    "jar.close()\n"
   ]
  },
  {
   "cell_type": "code",
   "execution_count": 26,
   "metadata": {},
   "outputs": [
    {
     "data": {
      "text/plain": [
       "{'sig_mats': {'7_1': array([[ 1.14285714, -0.42857143,  0.        ],\n",
       "         [ 0.42857143,  0.71428571,  0.        ],\n",
       "         [ 0.        ,  0.        ,  1.        ]]),\n",
       "  '13_1': array([[ 1.15384615, -0.53846154,  0.        ],\n",
       "         [ 0.53846154,  0.61538462,  0.        ],\n",
       "         [ 0.        ,  0.        ,  1.        ]]),\n",
       "  '19_1': array([[ 1.10526316, -0.26315789,  0.        ],\n",
       "         [ 0.26315789,  0.84210526,  0.        ],\n",
       "         [ 0.        ,  0.        ,  1.        ]])},\n",
       " 'csl_mats': {'7_1': array([[-2.,  0.,  1.],\n",
       "         [ 1.,  0.,  3.],\n",
       "         [ 0.,  1.,  0.]]),\n",
       "  '13_1': array([[ 0.,  1.,  4.],\n",
       "         [ 0., -3.,  1.],\n",
       "         [ 1.,  0.,  0.]]),\n",
       "  '19_1': array([[ 0.,  3.,  2.],\n",
       "         [ 0., -2.,  5.],\n",
       "         [ 1.,  0.,  0.]])},\n",
       " 'dsc_mats': {'7_1': array([[ 0.14285714, -0.28571429,  0.        ],\n",
       "         [ 0.42857143,  0.14285714,  0.        ],\n",
       "         [ 0.        ,  0.        ,  1.        ]]),\n",
       "  '13_1': array([[ 0.07692308,  0.30769231,  0.        ],\n",
       "         [-0.23076923,  0.07692308,  0.        ],\n",
       "         [ 0.        ,  0.        ,  1.        ]]),\n",
       "  '19_1': array([[-0.10526316,  0.15789474,  0.        ],\n",
       "         [-0.26315789, -0.10526316,  0.        ],\n",
       "         [ 0.        ,  0.        ,  1.        ]])},\n",
       " 'csl_symm_props': {'7_1': {'symm_grp_ax': array([[ 0.98198051, -0.18898224,  0.        ],\n",
       "          [ 0.18898224,  0.98198051,  0.        ],\n",
       "          [ 0.        ,  0.        ,  1.        ]]),\n",
       "   'bxt_symm_grp': 'D6h'},\n",
       "  '13_1': {'symm_grp_ax': array([[ 0.97072534, -0.24019223,  0.        ],\n",
       "          [ 0.24019223,  0.97072534,  0.        ],\n",
       "          [ 0.        ,  0.        ,  1.        ]]),\n",
       "   'bxt_symm_grp': 'D6h'},\n",
       "  '19_1': {'symm_grp_ax': array([[ 0.99339927, -0.11470787,  0.        ],\n",
       "          [ 0.11470787,  0.99339927,  0.        ],\n",
       "          [ 0.        ,  0.        ,  1.        ]]),\n",
       "   'bxt_symm_grp': 'D6h'}}}"
      ]
     },
     "execution_count": 26,
     "metadata": {},
     "output_type": "execute_result"
    }
   ],
   "source": [
    "csl_props"
   ]
  },
  {
   "cell_type": "code",
   "execution_count": null,
   "metadata": {},
   "outputs": [],
   "source": []
  }
 ],
 "metadata": {
  "kernelspec": {
   "display_name": "Python 3",
   "language": "python",
   "name": "python3"
  },
  "language_info": {
   "codemirror_mode": {
    "name": "ipython",
    "version": 3
   },
   "file_extension": ".py",
   "mimetype": "text/x-python",
   "name": "python",
   "nbconvert_exporter": "python",
   "pygments_lexer": "ipython3",
   "version": "3.8.5"
  }
 },
 "nbformat": 4,
 "nbformat_minor": 4
}
