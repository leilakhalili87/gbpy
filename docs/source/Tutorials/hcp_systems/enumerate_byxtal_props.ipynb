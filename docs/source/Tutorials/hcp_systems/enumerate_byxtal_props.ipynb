{
 "cells": [
  {
   "cell_type": "markdown",
   "metadata": {},
   "source": [
    "# Compute Bicrystallographic properties\n",
    "\n",
    "In this code, we compute and save the bicrystallography properties for each $\\Sigma$-miorientation. These properties include:\n",
    "1. `sig_mats`: The $\\Sigma$-miorientation in the primitive $p$ reference frame. For example, we use the variable `T_p1top2_p1`\n",
    "2. `csl_mats`: The CSL lattice basis vectors in the primitive $p$ reference frame. For example, we use the variable `l_csl_p` denoting $\\Lambda_{csl}^p$\n",
    "3. `dsc_mats`: The DSC lattice basis vectors in the primitive $p$ reference frame. For example, we use the variable `l_dsc_p` denoting $\\Lambda_{dsc}^p$\n",
    "4. `bxt_symm_props`: The symmetry aspects of the $\\Sigma$-miorientation\n",
    "    + `bxt_symm_grp`: The point-group symmetry of the bicrystal. This is the symmetry for the Boundary-plane orientations.\n",
    "    + `symm_grp_ax`: The axes of the symmetry point-group."
   ]
  },
  {
   "cell_type": "code",
   "execution_count": 1,
   "metadata": {},
   "outputs": [],
   "source": [
    "import byxtal.lattice as gbl\n",
    "import byxtal.csl_utility_functions as cuf\n",
    "import byxtal.find_csl_dsc as fcd\n",
    "import numpy as np\n",
    "import byxtal.tools as gbt\n",
    "import byxtal.misorient_fz as mfz\n",
    "import byxtal.disorient_symm_props as dsp"
   ]
  },
  {
   "cell_type": "markdown",
   "metadata": {},
   "source": [
    "1. `l1`: The lattice object.\n",
    "2. `l_p_po`: $\\Lambda_p^{po}$"
   ]
  },
  {
   "cell_type": "code",
   "execution_count": 2,
   "metadata": {},
   "outputs": [
    {
     "name": "stdout",
     "output_type": "stream",
     "text": [
      "11_1\n"
     ]
    },
    {
     "ename": "Exception",
     "evalue": "int_mat1 is not an integer matrix",
     "output_type": "error",
     "traceback": [
      "\u001b[0;31m---------------------------------------------------------------------------\u001b[0m",
      "\u001b[0;31mException\u001b[0m                                 Traceback (most recent call last)",
      "\u001b[0;32m<ipython-input-2-363fd33fc8a7>\u001b[0m in \u001b[0;36m<module>\u001b[0;34m\u001b[0m\n\u001b[1;32m     24\u001b[0m         \u001b[0msig_mats\u001b[0m\u001b[0;34m[\u001b[0m\u001b[0msig_id\u001b[0m\u001b[0;34m]\u001b[0m \u001b[0;34m=\u001b[0m \u001b[0mT_p1top2_p1\u001b[0m\u001b[0;34m\u001b[0m\u001b[0;34m\u001b[0m\u001b[0m\n\u001b[1;32m     25\u001b[0m \u001b[0;34m\u001b[0m\u001b[0m\n\u001b[0;32m---> 26\u001b[0;31m         \u001b[0ml_csl_p\u001b[0m\u001b[0;34m,\u001b[0m \u001b[0ml_dsc_p\u001b[0m \u001b[0;34m=\u001b[0m \u001b[0mfcd\u001b[0m\u001b[0;34m.\u001b[0m\u001b[0mfind_csl_dsc\u001b[0m\u001b[0;34m(\u001b[0m\u001b[0ml_p_po\u001b[0m\u001b[0;34m,\u001b[0m \u001b[0mT_p1top2_p1\u001b[0m\u001b[0;34m,\u001b[0m \u001b[0;36m1e-6\u001b[0m\u001b[0;34m,\u001b[0m \u001b[0;32mFalse\u001b[0m\u001b[0;34m)\u001b[0m\u001b[0;34m\u001b[0m\u001b[0;34m\u001b[0m\u001b[0m\n\u001b[0m\u001b[1;32m     27\u001b[0m         \u001b[0mcsl_mats\u001b[0m\u001b[0;34m[\u001b[0m\u001b[0msig_id\u001b[0m\u001b[0;34m]\u001b[0m \u001b[0;34m=\u001b[0m \u001b[0ml_csl_p\u001b[0m\u001b[0;34m;\u001b[0m \u001b[0mdsc_mats\u001b[0m\u001b[0;34m[\u001b[0m\u001b[0msig_id\u001b[0m\u001b[0;34m]\u001b[0m \u001b[0;34m=\u001b[0m \u001b[0ml_dsc_p\u001b[0m\u001b[0;34m;\u001b[0m\u001b[0;34m\u001b[0m\u001b[0;34m\u001b[0m\u001b[0m\n\u001b[1;32m     28\u001b[0m \u001b[0;34m\u001b[0m\u001b[0m\n",
      "\u001b[0;32m~/Downloads/sage-9.2-Ubuntu_18.04-x86_64/SageMath/local/lib/python3.8/site-packages/byxtal-0.post80.dev0+gfd59551-py3.8.egg/byxtal/find_csl_dsc.py\u001b[0m in \u001b[0;36mfind_csl_dsc\u001b[0;34m(l_p_po, T_p1top2_p1, tol1, print_check)\u001b[0m\n\u001b[1;32m     53\u001b[0m \u001b[0;34m\u001b[0m\u001b[0m\n\u001b[1;32m     54\u001b[0m     \u001b[0;31m########################################################################\u001b[0m\u001b[0;34m\u001b[0m\u001b[0;34m\u001b[0m\u001b[0;34m\u001b[0m\u001b[0m\n\u001b[0;32m---> 55\u001b[0;31m     \u001b[0ml_dsc_p\u001b[0m \u001b[0;34m=\u001b[0m \u001b[0mdsc_finder\u001b[0m\u001b[0;34m(\u001b[0m\u001b[0mT_p1top2_p1\u001b[0m\u001b[0;34m,\u001b[0m \u001b[0ml_p_po\u001b[0m\u001b[0;34m,\u001b[0m \u001b[0mtol1\u001b[0m\u001b[0;34m)\u001b[0m\u001b[0;34m\u001b[0m\u001b[0;34m\u001b[0m\u001b[0m\n\u001b[0m\u001b[1;32m     56\u001b[0m     \u001b[0mcheck_val2\u001b[0m \u001b[0;34m=\u001b[0m \u001b[0mcheck_dsc\u001b[0m\u001b[0;34m(\u001b[0m\u001b[0ml_dsc_p\u001b[0m\u001b[0;34m,\u001b[0m \u001b[0ml_csl_p\u001b[0m\u001b[0;34m,\u001b[0m \u001b[0ml_p_po\u001b[0m\u001b[0;34m,\u001b[0m \u001b[0mT_p1top2_p1\u001b[0m\u001b[0;34m,\u001b[0m \u001b[0mSigma\u001b[0m\u001b[0;34m,\u001b[0m \u001b[0mprint_check\u001b[0m\u001b[0;34m)\u001b[0m\u001b[0;34m\u001b[0m\u001b[0;34m\u001b[0m\u001b[0m\n\u001b[1;32m     57\u001b[0m     \u001b[0;31m########################################################################\u001b[0m\u001b[0;34m\u001b[0m\u001b[0;34m\u001b[0m\u001b[0;34m\u001b[0m\u001b[0m\n",
      "\u001b[0;32m~/Downloads/sage-9.2-Ubuntu_18.04-x86_64/SageMath/local/lib/python3.8/site-packages/byxtal-0.post80.dev0+gfd59551-py3.8.egg/byxtal/find_csl_dsc.py\u001b[0m in \u001b[0;36mdsc_finder\u001b[0;34m(L_G2_G1, L_G1_GO1, tol1)\u001b[0m\n\u001b[1;32m    173\u001b[0m \u001b[0;34m\u001b[0m\u001b[0m\n\u001b[1;32m    174\u001b[0m     \u001b[0;31m# CSL of the reciprocal lattices\u001b[0m\u001b[0;34m\u001b[0m\u001b[0;34m\u001b[0m\u001b[0;34m\u001b[0m\u001b[0m\n\u001b[0;32m--> 175\u001b[0;31m     \u001b[0mL_rCSL_rG1\u001b[0m \u001b[0;34m=\u001b[0m \u001b[0mcsl_finder\u001b[0m\u001b[0;34m(\u001b[0m\u001b[0mL_rG2_rG1\u001b[0m\u001b[0;34m,\u001b[0m \u001b[0mL_rG1_GO1\u001b[0m\u001b[0;34m,\u001b[0m \u001b[0mtol1\u001b[0m\u001b[0;34m)\u001b[0m\u001b[0;34m\u001b[0m\u001b[0;34m\u001b[0m\u001b[0m\n\u001b[0m\u001b[1;32m    176\u001b[0m     \u001b[0mL_rCSL_GO1\u001b[0m \u001b[0;34m=\u001b[0m \u001b[0mL_rG1_GO1\u001b[0m\u001b[0;34m.\u001b[0m\u001b[0mdot\u001b[0m\u001b[0;34m(\u001b[0m\u001b[0mL_rCSL_rG1\u001b[0m\u001b[0;34m)\u001b[0m\u001b[0;34m\u001b[0m\u001b[0;34m\u001b[0m\u001b[0m\n\u001b[1;32m    177\u001b[0m \u001b[0;34m\u001b[0m\u001b[0m\n",
      "\u001b[0;32m~/Downloads/sage-9.2-Ubuntu_18.04-x86_64/SageMath/local/lib/python3.8/site-packages/byxtal-0.post80.dev0+gfd59551-py3.8.egg/byxtal/find_csl_dsc.py\u001b[0m in \u001b[0;36mcsl_finder\u001b[0;34m(T_p1top2_p1, l_p_po, tol1)\u001b[0m\n\u001b[1;32m    113\u001b[0m     \u001b[0ml_csl1_p\u001b[0m \u001b[0;34m=\u001b[0m \u001b[0mrpl\u001b[0m\u001b[0;34m.\u001b[0m\u001b[0mcall_sage_math\u001b[0m\u001b[0;34m(\u001b[0m\u001b[0mexec_str\u001b[0m\u001b[0;34m,\u001b[0m \u001b[0minp_args\u001b[0m\u001b[0;34m)\u001b[0m\u001b[0;34m\u001b[0m\u001b[0;34m\u001b[0m\u001b[0m\n\u001b[1;32m    114\u001b[0m \u001b[0;34m\u001b[0m\u001b[0m\n\u001b[0;32m--> 115\u001b[0;31m     \u001b[0ml_csl_csl1\u001b[0m \u001b[0;34m=\u001b[0m \u001b[0mrpl\u001b[0m\u001b[0;34m.\u001b[0m\u001b[0mreduce_po_lat\u001b[0m\u001b[0;34m(\u001b[0m\u001b[0ml_csl1_p\u001b[0m\u001b[0;34m,\u001b[0m \u001b[0ml_p_po\u001b[0m\u001b[0;34m,\u001b[0m \u001b[0mtol1\u001b[0m\u001b[0;34m)\u001b[0m\u001b[0;34m\u001b[0m\u001b[0;34m\u001b[0m\u001b[0m\n\u001b[0m\u001b[1;32m    116\u001b[0m     \u001b[0ml_csl_p\u001b[0m \u001b[0;34m=\u001b[0m \u001b[0ml_csl1_p\u001b[0m\u001b[0;34m.\u001b[0m\u001b[0mdot\u001b[0m\u001b[0;34m(\u001b[0m\u001b[0ml_csl_csl1\u001b[0m\u001b[0;34m)\u001b[0m\u001b[0;34m\u001b[0m\u001b[0;34m\u001b[0m\u001b[0m\n\u001b[1;32m    117\u001b[0m \u001b[0;34m\u001b[0m\u001b[0m\n",
      "\u001b[0;32m~/Downloads/sage-9.2-Ubuntu_18.04-x86_64/SageMath/local/lib/python3.8/site-packages/byxtal-0.post80.dev0+gfd59551-py3.8.egg/byxtal/reduce_po_lat.py\u001b[0m in \u001b[0;36mreduce_po_lat\u001b[0;34m(l_csl_p, l_p_po, tol)\u001b[0m\n\u001b[1;32m     44\u001b[0m     \u001b[0ml_p_po\u001b[0m \u001b[0;34m=\u001b[0m \u001b[0mnp\u001b[0m\u001b[0;34m.\u001b[0m\u001b[0marray\u001b[0m\u001b[0;34m(\u001b[0m\u001b[0ml_p_po\u001b[0m\u001b[0;34m,\u001b[0m \u001b[0mdtype\u001b[0m\u001b[0;34m=\u001b[0m\u001b[0;34m'double'\u001b[0m\u001b[0;34m)\u001b[0m\u001b[0;34m\u001b[0m\u001b[0;34m\u001b[0m\u001b[0m\n\u001b[1;32m     45\u001b[0m     \u001b[0ml_csl_po\u001b[0m \u001b[0;34m=\u001b[0m \u001b[0ml_p_po\u001b[0m\u001b[0;34m.\u001b[0m\u001b[0mdot\u001b[0m\u001b[0;34m(\u001b[0m\u001b[0ml_csl_p\u001b[0m\u001b[0;34m)\u001b[0m\u001b[0;34m\u001b[0m\u001b[0;34m\u001b[0m\u001b[0m\n\u001b[0;32m---> 46\u001b[0;31m     \u001b[0mlInt_csl_po\u001b[0m\u001b[0;34m,\u001b[0m \u001b[0mm1\u001b[0m \u001b[0;34m=\u001b[0m \u001b[0miman\u001b[0m\u001b[0;34m.\u001b[0m\u001b[0mint_approx\u001b[0m\u001b[0;34m(\u001b[0m\u001b[0ml_csl_po\u001b[0m\u001b[0;34m,\u001b[0m \u001b[0mtol\u001b[0m\u001b[0;34m)\u001b[0m\u001b[0;34m\u001b[0m\u001b[0;34m\u001b[0m\u001b[0m\n\u001b[0m\u001b[1;32m     47\u001b[0m \u001b[0;34m\u001b[0m\u001b[0m\n\u001b[1;32m     48\u001b[0m     \u001b[0minp_args\u001b[0m\u001b[0;34m=\u001b[0m\u001b[0;34m{\u001b[0m\u001b[0;34m}\u001b[0m\u001b[0;34m\u001b[0m\u001b[0;34m\u001b[0m\u001b[0m\n",
      "\u001b[0;32m~/Downloads/sage-9.2-Ubuntu_18.04-x86_64/SageMath/local/lib/python3.8/site-packages/byxtal-0.post80.dev0+gfd59551-py3.8.egg/byxtal/integer_manipulations.py\u001b[0m in \u001b[0;36mint_approx\u001b[0;34m(Tmat, tol1)\u001b[0m\n\u001b[1;32m    185\u001b[0m     \u001b[0;31m# print(Tmat)\u001b[0m\u001b[0;34m\u001b[0m\u001b[0;34m\u001b[0m\u001b[0;34m\u001b[0m\u001b[0m\n\u001b[1;32m    186\u001b[0m \u001b[0;34m\u001b[0m\u001b[0m\n\u001b[0;32m--> 187\u001b[0;31m     \u001b[0mint_mat1\u001b[0m\u001b[0;34m,\u001b[0m \u001b[0mt1_mult\u001b[0m\u001b[0;34m,\u001b[0m \u001b[0merr1\u001b[0m \u001b[0;34m=\u001b[0m \u001b[0mmult_fac_err\u001b[0m\u001b[0;34m(\u001b[0m\u001b[0mTmat\u001b[0m\u001b[0;34m,\u001b[0m \u001b[0mmult1\u001b[0m\u001b[0;34m,\u001b[0m \u001b[0mtol1\u001b[0m\u001b[0;34m)\u001b[0m\u001b[0;34m\u001b[0m\u001b[0;34m\u001b[0m\u001b[0m\n\u001b[0m\u001b[1;32m    188\u001b[0m     \u001b[0mint_mat2\u001b[0m\u001b[0;34m,\u001b[0m \u001b[0mt2_mult\u001b[0m\u001b[0;34m,\u001b[0m \u001b[0merr2\u001b[0m \u001b[0;34m=\u001b[0m \u001b[0mmult_fac_err\u001b[0m\u001b[0;34m(\u001b[0m\u001b[0mTmat\u001b[0m\u001b[0;34m,\u001b[0m \u001b[0mmult2\u001b[0m\u001b[0;34m,\u001b[0m \u001b[0mtol1\u001b[0m\u001b[0;34m)\u001b[0m\u001b[0;34m\u001b[0m\u001b[0;34m\u001b[0m\u001b[0m\n\u001b[1;32m    189\u001b[0m \u001b[0;34m\u001b[0m\u001b[0m\n",
      "\u001b[0;32m~/Downloads/sage-9.2-Ubuntu_18.04-x86_64/SageMath/local/lib/python3.8/site-packages/byxtal-0.post80.dev0+gfd59551-py3.8.egg/byxtal/integer_manipulations.py\u001b[0m in \u001b[0;36mmult_fac_err\u001b[0;34m(Tmat, mult1, tol1)\u001b[0m\n\u001b[1;32m    228\u001b[0m         \u001b[0mint_mat1\u001b[0m \u001b[0;34m=\u001b[0m \u001b[0mnp\u001b[0m\u001b[0;34m.\u001b[0m\u001b[0marray\u001b[0m\u001b[0;34m(\u001b[0m\u001b[0mint_mat1\u001b[0m\u001b[0;34m,\u001b[0m \u001b[0mdtype\u001b[0m\u001b[0;34m=\u001b[0m\u001b[0;34m'int64'\u001b[0m\u001b[0;34m)\u001b[0m\u001b[0;34m\u001b[0m\u001b[0;34m\u001b[0m\u001b[0m\n\u001b[1;32m    229\u001b[0m     \u001b[0;32melse\u001b[0m\u001b[0;34m:\u001b[0m\u001b[0;34m\u001b[0m\u001b[0;34m\u001b[0m\u001b[0m\n\u001b[0;32m--> 230\u001b[0;31m         \u001b[0;32mraise\u001b[0m \u001b[0mException\u001b[0m\u001b[0;34m(\u001b[0m\u001b[0;34m\"int_mat1 is not an integer matrix\"\u001b[0m\u001b[0;34m)\u001b[0m\u001b[0;34m\u001b[0m\u001b[0;34m\u001b[0m\u001b[0m\n\u001b[0m\u001b[1;32m    231\u001b[0m     \u001b[0mgcd1\u001b[0m \u001b[0;34m=\u001b[0m \u001b[0mgcd_vec\u001b[0m\u001b[0;34m(\u001b[0m\u001b[0mint_mat1\u001b[0m\u001b[0;34m)\u001b[0m\u001b[0;34m\u001b[0m\u001b[0;34m\u001b[0m\u001b[0m\n\u001b[1;32m    232\u001b[0m     \u001b[0mint_mat1\u001b[0m \u001b[0;34m=\u001b[0m \u001b[0mint_mat1\u001b[0m\u001b[0;34m/\u001b[0m\u001b[0mgcd1\u001b[0m\u001b[0;34m\u001b[0m\u001b[0;34m\u001b[0m\u001b[0m\n",
      "\u001b[0;31mException\u001b[0m: int_mat1 is not an integer matrix"
     ]
    }
   ],
   "source": [
    "l1 = gbl.Lattice('Mg')\n",
    "sig_type = 'specific'\n",
    "l_p_po = l1.l_p_po\n",
    "\n",
    "### For cubic only odd Sigma numbers exist!\n",
    "n1 = 1\n",
    "n2 = 10\n",
    "sig_nums = 2*np.arange(n1,n2)+1\n",
    "\n",
    "num_sigs = 0\n",
    "sig_mats = {}\n",
    "csl_mats = {}\n",
    "dsc_mats = {}\n",
    "bxt_symm_props = {}\n",
    "\n",
    "for sig_num in sig_nums:\n",
    "    s1 = cuf.csl_rotations(sig_num, sig_type, l1)\n",
    "    for ct1 in range(np.shape(s1['N'])[0]):\n",
    "        symm_grp_props = {}\n",
    "        sig_id = str(sig_num)+'_'+str(ct1+1)\n",
    "        print(sig_id)\n",
    "        #### Store the sigma-misorientation (in 'p' reference frame)\n",
    "        T_p1top2_p1 = s1['N'][ct1]/s1['D'][ct1]\n",
    "        sig_mats[sig_id] = T_p1top2_p1\n",
    "\n",
    "        l_csl_p, l_dsc_p = fcd.find_csl_dsc(l_p_po, T_p1top2_p1, 1e-6, False)\n",
    "        csl_mats[sig_id] = l_csl_p; dsc_mats[sig_id] = l_dsc_p;\n",
    "\n",
    "        #### Generate boundary-planpe orientations\n",
    "        l_p_po = l1.l_p_po\n",
    "        l_po_p = np.linalg.inv(l_p_po)\n",
    "        T_p1top2_po1 = np.dot(l_p_po, np.dot(T_p1top2_p1, l_po_p))\n",
    "\n",
    "        ## Find the corresponding disorientation\n",
    "        quat1 = gbt.mat2quat(T_p1top2_po1)\n",
    "        # print(quat1)\n",
    "        dis_quat1 = mfz.misorient_fz(quat1, l1.cryst_ptgrp)\n",
    "        # print(dis_quat1)\n",
    "        x_g, y_g, z_g, bxt_symm_grp = dsp.disorient_symm_props(dis_quat1, l1.cryst_ptgrp)\n",
    "        symm_grp_ax = (np.vstack((x_g, y_g, z_g))).transpose()\n",
    "        symm_grp_props['symm_grp_ax'] = symm_grp_ax\n",
    "        symm_grp_props['bxt_symm_grp'] = bxt_symm_grp\n",
    "        bxt_symm_props[sig_id] = symm_grp_props\n",
    "        num_sigs = num_sigs + 1\n",
    "        print(num_sigs)\n",
    "\n",
    "import pickle as pkl;\n",
    "pkl_name = l1.elem_type+'_byxtal_props.pkl'\n",
    "csl_props = {}\n",
    "csl_props['sig_mats'] = sig_mats\n",
    "csl_props['csl_mats'] = csl_mats\n",
    "csl_props['dsc_mats'] = dsc_mats\n",
    "csl_props['csl_symm_props'] = bxt_symm_props\n",
    "\n",
    "jar = open(pkl_name, 'wb')\n",
    "pkl.dump(csl_props, jar)\n",
    "jar.close()"
   ]
  },
  {
   "cell_type": "code",
   "execution_count": null,
   "metadata": {},
   "outputs": [],
   "source": []
  }
 ],
 "metadata": {
  "kernelspec": {
   "display_name": "Python 3",
   "language": "python",
   "name": "python3"
  },
  "language_info": {
   "codemirror_mode": {
    "name": "ipython",
    "version": 3
   },
   "file_extension": ".py",
   "mimetype": "text/x-python",
   "name": "python",
   "nbconvert_exporter": "python",
   "pygments_lexer": "ipython3",
   "version": "3.8.5"
  }
 },
 "nbformat": 4,
 "nbformat_minor": 4
}
