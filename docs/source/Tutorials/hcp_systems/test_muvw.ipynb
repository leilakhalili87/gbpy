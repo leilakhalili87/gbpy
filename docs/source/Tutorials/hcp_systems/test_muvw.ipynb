{
 "cells": [
  {
   "cell_type": "markdown",
   "metadata": {},
   "source": [
    "# Compute Bicrystallographic properties\n",
    "\n",
    "In this code, we compute and save the bicrystallography properties for each $\\Sigma$-miorientation. These properties include:\n",
    "1. `sig_mats`: The $\\Sigma$-miorientation in the primitive $p$ reference frame. For example, we use the variable `T_p1top2_p1`\n",
    "2. `csl_mats`: The CSL lattice basis vectors in the primitive $p$ reference frame. For example, we use the variable `l_csl_p` denoting $\\Lambda_{csl}^p$\n",
    "3. `dsc_mats`: The DSC lattice basis vectors in the primitive $p$ reference frame. For example, we use the variable `l_dsc_p` denoting $\\Lambda_{dsc}^p$\n",
    "4. `bxt_symm_props`: The symmetry aspects of the $\\Sigma$-miorientation\n",
    "    + `bxt_symm_grp`: The point-group symmetry of the bicrystal. This is the symmetry for the Boundary-plane orientations.\n",
    "    + `symm_grp_ax`: The axes of the symmetry point-group."
   ]
  },
  {
   "cell_type": "code",
   "execution_count": 1,
   "metadata": {},
   "outputs": [],
   "source": [
    "import byxtal.lattice as gbl\n",
    "import byxtal.csl_utility_functions as cuf\n",
    "import byxtal.find_csl_dsc as fcd\n",
    "import numpy as np\n",
    "import byxtal.tools as gbt\n",
    "import byxtal.misorient_fz as mfz\n",
    "import byxtal.disorient_symm_props as dsp"
   ]
  },
  {
   "cell_type": "code",
   "execution_count": 4,
   "metadata": {},
   "outputs": [
    {
     "name": "stdout",
     "output_type": "stream",
     "text": [
      "8\n",
      "3\n",
      "[[3. 1.]\n",
      " [8. 3.]\n",
      " [0. 0.]\n",
      " [0. 0.]]\n"
     ]
    }
   ],
   "source": [
    "l1 = gbl.Lattice('hp_id')\n",
    "sig_type = 'specific'\n",
    "l_p_po = l1.l_p_po\n",
    "\n",
    "### For cubic only odd Sigma numbers exist!\n",
    "n1 = 1\n",
    "n2 = 10\n",
    "sig_nums = 2*np.arange(n1,n2)+1\n",
    "\n",
    "num_sigs = 0\n",
    "sig_mats = {}\n",
    "csl_mats = {}\n",
    "dsc_mats = {}\n",
    "bxt_symm_props = {}\n",
    "import byxtal.integer_manipulations as int_man\n",
    "sigma = 17\n",
    "cryst_ptgrp = cuf.proper_ptgrp(l1.cryst_ptgrp)\n",
    "# lat_type.cryst_ptgrp = cryst_ptgrp\n",
    "# Define Parameters\n",
    "[tau, kmax] = cuf.compute_inp_params(l1, sig_type)\n",
    "[nu, mu] = int_man.rat_approx(tau, 1e-4)\n",
    "print(mu)\n",
    "print(nu)\n",
    "if sig_type == 'specific':\n",
    "    lat_args = {}\n",
    "    lat_args['mu'] = mu.tolist()\n",
    "    lat_args['nu'] = nu.tolist()\n",
    "    lat_args['kmax'] = kmax\n",
    "    # Create Integer Quadruples\n",
    "    quad_int = cuf.mesh_muvw(cryst_ptgrp, sigma, sig_type, lat_args)\n",
    "    # Restrict to Fundamental Zone\n",
    "    quad_int = cuf.mesh_muvw_fz(quad_int, cryst_ptgrp, sig_type, lat_args)\n",
    "    quad_int = cuf.check_fsig_int(quad_int, cryst_ptgrp, sigma, lat_args)\n",
    "    quad_int = cuf.eliminate_mults(quad_int)\n",
    "    quad_int = cuf.check_sigma(quad_int, sigma, cryst_ptgrp, sig_type, lat_args)\n",
    "    print(quad_int)"
   ]
  },
  {
   "cell_type": "code",
   "execution_count": null,
   "metadata": {},
   "outputs": [],
   "source": []
  }
 ],
 "metadata": {
  "kernelspec": {
   "display_name": "Python 3",
   "language": "python",
   "name": "python3"
  },
  "language_info": {
   "codemirror_mode": {
    "name": "ipython",
    "version": 3
   },
   "file_extension": ".py",
   "mimetype": "text/x-python",
   "name": "python",
   "nbconvert_exporter": "python",
   "pygments_lexer": "ipython3",
   "version": "3.8.5"
  }
 },
 "nbformat": 4,
 "nbformat_minor": 4
}
