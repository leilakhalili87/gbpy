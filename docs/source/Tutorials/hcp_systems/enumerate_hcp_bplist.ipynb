{
 "cells": [
  {
   "cell_type": "markdown",
   "metadata": {},
   "source": [
    "# Generate a list of boundary-plane vectors\n",
    "\n",
    "In this code, we determine the list of boundary-plane orientation vectors, represented using the Miller indices in the primitve **Coincidence Site Lattice**. These boundary-plane vectors  fall in the fundamental zone of boundary-plane orientations.\n",
    "\n",
    "1. Load relevant modules\n",
    "2. Upload necessary files\n",
    "    + `pkl_name`: The pkl file which contains the bicrystallography properties for each Σ-miorientation.\n",
    "3. Compute indices of boundary-plane orientation for a given Σ-misorientation\n",
    "4. Save the list of boundary-plane orientations in hkl_sig_inds dictionary."
   ]
  },
  {
   "cell_type": "code",
   "execution_count": 2,
   "metadata": {},
   "outputs": [],
   "source": [
    "import byxtal.tools as gbt\n",
    "import byxtal.lattice as gbl\n",
    "import pickle as pkl\n",
    "import numpy as np\n",
    "import numpy.linalg as nla\n",
    "import byxtal.misorient_fz as mfz\n",
    "import gbpy.generate_hkl_indices as ghi"
   ]
  },
  {
   "cell_type": "markdown",
   "metadata": {},
   "source": [
    "1. `l1`: The lattice object.\n",
    "2. `l_p_po`: $\\Lambda_p^{po}$\n",
    "3. `sig_mats`: The $\\Sigma$-miorientation in the primitive $p$ reference frame. For example, we use the variable `T_p1top2_p1`\n",
    "4. `csl_mats`: The CSL lattice basis vectors in the primitive $p$ reference frame. For example, we use the variable `l_csl_p` denoting $\\Lambda_{csl}^p$\n",
    "5. `dsc_mats`: The DSC lattice basis vectors in the primitive $p$ reference frame. For example, we use the variable `l_dsc_p` denoting $\\Lambda_{dsc}^p$\n",
    "6. `bxt_symm_props`: The symmetry aspects of the $\\Sigma$-miorientation\n",
    "    + `bxt_symm_grp`: The point-group symmetry of the bicrystal. This is the symmetry for the Boundary-plane orientations.\n",
    "    + `symm_grp_ax`: The axes of the symmetry point-group.\n",
    "7. `num1`: Refinement of the grid on the 2-sphere for determining boundary-plane orientations. For example, `num1=3` will produce approximately (of the order of) `num1^3 (=27)` vectors.\n",
    "    + The number of boundary-plane orientations will depend on the bicrystal symmetry of the $\\Sigma$ misorientation."
   ]
  },
  {
   "cell_type": "code",
   "execution_count": 3,
   "metadata": {},
   "outputs": [],
   "source": [
    "######################################################################\n",
    "###### Boundary-plane matrix properties with A_cut\n",
    "#####################################################################\n",
    "l1=gbl.Lattice('Mg_sun')\n",
    "pkl_name = l1.elem_type + '_byxtal_props.pkl'\n",
    "jar = open(pkl_name,'rb')\n",
    "s1=pkl.load(jar)\n",
    "jar.close()\n",
    "\n",
    "sig_mats = s1['sig_mats']\n",
    "csl_mats = s1['csl_mats']\n",
    "dsc_mats = s1['dsc_mats']\n",
    "bxt_symm_props = s1['csl_symm_props']\n",
    "\n",
    "l_p_po = l1.l_p_po\n",
    "\n",
    "num1 = 3"
   ]
  },
  {
   "cell_type": "markdown",
   "metadata": {},
   "source": [
    "1. `s1_keys`: The \"string\" keys for the variables `sig_mats`, `csl_mats`, `dsc_mats`, `bxt_symm_props`\n",
    "2. `hkl_sig_inds`: Dictionary for saving boundary-plane orientations for each $\\Sigma$-misorientation\n",
    "    + `hkl_inds`: Indices of boundary-plane orientation for a given $\\Sigma$-misorientation"
   ]
  },
  {
   "cell_type": "code",
   "execution_count": 4,
   "metadata": {},
   "outputs": [
    {
     "name": "stdout",
     "output_type": "stream",
     "text": [
      "7_1\n",
      "13_1\n"
     ]
    }
   ],
   "source": [
    "s1_keys = list(bxt_symm_props.keys())\n",
    "hkl_sig_inds = {}\n",
    "\n",
    "for sig_id in s1_keys:\n",
    "    print(sig_id)\n",
    "\n",
    "    l_p_po = l1.l_p_po\n",
    "    l_po_p = nla.inv(l_p_po)\n",
    "\n",
    "    bp_symm_grp = bxt_symm_props[sig_id]['bxt_symm_grp']\n",
    "    symm_grp_ax = bxt_symm_props[sig_id]['symm_grp_ax']\n",
    "    l_csl_p = csl_mats[sig_id]\n",
    "\n",
    "\n",
    "    l_csl_po = l_p_po.dot(l_csl_p)\n",
    "    l_csl_props = {}\n",
    "\n",
    "    l_csl_props['l_csl_po'] = l_csl_po\n",
    "    l_csl_props['symm_grp_ax'] = symm_grp_ax\n",
    "    l_csl_props['bp_symm_grp'] = bp_symm_grp\n",
    "\n",
    "    hkl_inds = ghi.gen_hkl_props(l_csl_props, num1)\n",
    "    hkl_sig_inds[sig_id] = hkl_inds\n",
    "    "
   ]
  },
  {
   "cell_type": "markdown",
   "metadata": {},
   "source": [
    "Save the list of boundary-plane orientations in `hkl_sig_inds` dictionary."
   ]
  },
  {
   "cell_type": "code",
   "execution_count": 5,
   "metadata": {},
   "outputs": [],
   "source": [
    "########################################################################\n",
    "pkl_name = 'bp_list_' + l1.elem_type + '.pkl'\n",
    "jar = open(pkl_name, 'wb')\n",
    "bp_list = {}\n",
    "bp_list['l_p_po'] = l_p_po\n",
    "bp_list['miller_inds'] = hkl_sig_inds\n",
    "pkl.dump(bp_list, jar)\n",
    "jar.close()\n",
    "########################################################################\n"
   ]
  }
 ],
 "metadata": {
  "kernelspec": {
   "display_name": "Python 3",
   "language": "python",
   "name": "python3"
  },
  "language_info": {
   "codemirror_mode": {
    "name": "ipython",
    "version": 3
   },
   "file_extension": ".py",
   "mimetype": "text/x-python",
   "name": "python",
   "nbconvert_exporter": "python",
   "pygments_lexer": "ipython3",
   "version": "3.8.5"
  }
 },
 "nbformat": 4,
 "nbformat_minor": 4
}
